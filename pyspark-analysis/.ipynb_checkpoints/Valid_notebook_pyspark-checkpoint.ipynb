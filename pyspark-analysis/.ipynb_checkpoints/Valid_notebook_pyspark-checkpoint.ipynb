{
 "cells": [
  {
   "cell_type": "code",
   "execution_count": 1,
   "metadata": {},
   "outputs": [],
   "source": [
    "#pyspark\n",
    "from pyspark.sql import Row, SparkSession\n",
    "from pyspark.sql.functions import *\n",
    "\n",
    "import datetime\n",
    "from pyspark.sql.functions import *\n",
    "from pyspark.sql.types import DateType\n",
    "\n",
    "import datetime\n",
    "import numpy as np\n",
    "import pandas as pd\n",
    "import seaborn as sns\n",
    "import matplotlib.pyplot as plt\n",
    "\n",
    "%matplotlib inline\n",
    "\n",
    "#jupyter dataViz opts\n",
    "\n",
    "plt.rcParams[\"figure.figsize\"] = [20, 8]"
   ]
  },
  {
   "cell_type": "markdown",
   "metadata": {},
   "source": [
    "# Prepare dataset :\n",
    "\n",
    "Dataset downloaded from :\n",
    "\n",
    "https://data.cityofchicago.org/Public-Safety/Crimes-2001-to-present/ijzp-q8t2\n",
    "\n",
    "https://www.kaggle.com/djonafegnem/chicago-crime-data-analysis"
   ]
  },
  {
   "cell_type": "code",
   "execution_count": 2,
   "metadata": {},
   "outputs": [],
   "source": [
    "### Columns description from : https://data.cityofchicago.org/Public-Safety/Crimes-2001-to-present/ijzp-q8t2"
   ]
  },
  {
   "cell_type": "code",
   "execution_count": 3,
   "metadata": {},
   "outputs": [],
   "source": [
    "content_cols = '''\n",
    "ID - Unique identifier for the record.\n",
    "Case Number - The Chicago Police Department RD Number (Records Division Number), which is unique to the incident.\n",
    "Date - Date when the incident occurred. this is sometimes a best estimate.\n",
    "Block - The partially redacted address where the incident occurred, placing it on the same block as the actual address.\n",
    "IUCR - The Illinois Unifrom Crime Reporting code. This is directly linked to the Primary Type and Description. See the list of IUCR codes at https://data.cityofchicago.org/d/c7ck-438e.\n",
    "Primary Type - The primary description of the IUCR code.\n",
    "Description - The secondary description of the IUCR code, a subcategory of the primary description.\n",
    "Location Description - Description of the location where the incident occurred.\n",
    "Arrest - Indicates whether an arrest was made.\n",
    "Domestic - Indicates whether the incident was domestic-related as defined by the Illinois Domestic Violence Act.\n",
    "Beat - Indicates the beat where the incident occurred. A beat is the smallest police geographic area – each beat has a dedicated police beat car. Three to five beats make up a police sector, and three sectors make up a police district. The Chicago Police Department has 22 police districts. See the beats at https://data.cityofchicago.org/d/aerh-rz74.\n",
    "District - Indicates the police district where the incident occurred. See the districts at https://data.cityofchicago.org/d/fthy-xz3r.\n",
    "Ward - The ward (City Council district) where the incident occurred. See the wards at https://data.cityofchicago.org/d/sp34-6z76.\n",
    "Community Area - Indicates the community area where the incident occurred. Chicago has 77 community areas. See the community areas at https://data.cityofchicago.org/d/cauq-8yn6.\n",
    "FBI Code - Indicates the crime classification as outlined in the FBI's National Incident-Based Reporting System (NIBRS). See the Chicago Police Department listing of these classifications at http://gis.chicagopolice.org/clearmap_crime_sums/crime_types.html.\n",
    "X Coordinate - The x coordinate of the location where the incident occurred in State Plane Illinois East NAD 1983 projection. This location is shifted from the actual location for partial redaction but falls on the same block.\n",
    "Y Coordinate - The y coordinate of the location where the incident occurred in State Plane Illinois East NAD 1983 projection. This location is shifted from the actual location for partial redaction but falls on the same block.\n",
    "Year - Year the incident occurred.\n",
    "Updated On - Date and time the record was last updated.\n",
    "Latitude - The latitude of the location where the incident occurred. This location is shifted from the actual location for partial redaction but falls on the same block.\n",
    "Longitude - The longitude of the location where the incident occurred. This location is shifted from the actual location for partial redaction but falls on the same block.\n",
    "Location - The location where the incident occurred in a format that allows for creation of maps and other geographic operations on this data portal. This location is shifted from the actual location for partial redaction but falls on the same block.'''"
   ]
  },
  {
   "cell_type": "markdown",
   "metadata": {},
   "source": [
    "---\n",
    "\n",
    "### Clean and prepare Headers :\n",
    "##### Removing 'Blank space' and replacing it by '_'"
   ]
  },
  {
   "cell_type": "code",
   "execution_count": 4,
   "metadata": {},
   "outputs": [],
   "source": [
    "#list of headers => list of dictionaries\n",
    "\n",
    "def entry_dic(line):\n",
    "    elements = line.split(' - ')\n",
    "    return {'title': elements[0], 'description': elements[1], 'header': elements[0].lower().replace(' ', '_')}"
   ]
  },
  {
   "cell_type": "code",
   "execution_count": 5,
   "metadata": {},
   "outputs": [],
   "source": [
    "#Go all over the headers & construct a dictionary \n",
    "#Split lines using '\\n'\n",
    "\n",
    "header_dics = list(map(entry_dic, list(filter(lambda l: l != '', content_cols.split('\\n')))))"
   ]
  },
  {
   "cell_type": "code",
   "execution_count": 6,
   "metadata": {},
   "outputs": [
    {
     "name": "stdout",
     "output_type": "stream",
     "text": [
      "Case Number\n",
      "case_number\n"
     ]
    }
   ],
   "source": [
    "print(header_dics[:2][1]['title'])\n",
    "#We'll use header, we'll access it using '.'\n",
    "print(header_dics[:2][1]['header'])"
   ]
  },
  {
   "cell_type": "markdown",
   "metadata": {},
   "source": [
    "---\n",
    "### Importing data :\n"
   ]
  },
  {
   "cell_type": "code",
   "execution_count": 7,
   "metadata": {},
   "outputs": [],
   "source": [
    "#Loading a data frame from the dataset\n",
    "df = spark.read.csv('../datasets/*.csv', inferSchema=True, header=True)\n",
    "df = df.cache()\n"
   ]
  },
  {
   "cell_type": "code",
   "execution_count": 8,
   "metadata": {},
   "outputs": [
    {
     "data": {
      "text/plain": [
       "1456714"
      ]
     },
     "execution_count": 8,
     "metadata": {},
     "output_type": "execute_result"
    }
   ],
   "source": [
    "df.count()"
   ]
  },
  {
   "cell_type": "code",
   "execution_count": 9,
   "metadata": {},
   "outputs": [
    {
     "data": {
      "text/plain": [
       "['_c0',\n",
       " 'id',\n",
       " 'case_number',\n",
       " 'date',\n",
       " 'block',\n",
       " 'iucr',\n",
       " 'primary_type',\n",
       " 'description',\n",
       " 'location_description',\n",
       " 'arrest',\n",
       " 'domestic',\n",
       " 'beat',\n",
       " 'district',\n",
       " 'ward',\n",
       " 'community_area',\n",
       " 'fbi_code',\n",
       " 'x_coordinate',\n",
       " 'y_coordinate',\n",
       " 'year',\n",
       " 'updated_on',\n",
       " 'latitude',\n",
       " 'longitude',\n",
       " 'location']"
      ]
     },
     "execution_count": 9,
     "metadata": {},
     "output_type": "execute_result"
    }
   ],
   "source": [
    "#Headers of the dataframe\n",
    "for h in header_dics:\n",
    "    df = df.withColumnRenamed(h['title'], h['header'])\n",
    "    \n",
    "#Our features (columns)\n",
    "allCols = list(df.columns)\n",
    "allCols"
   ]
  },
  {
   "cell_type": "markdown",
   "metadata": {},
   "source": [
    "---\n",
    "#### Identify and clean the dirty columns :\n"
   ]
  },
  {
   "cell_type": "code",
   "execution_count": 10,
   "metadata": {},
   "outputs": [
    {
     "name": "stdout",
     "output_type": "stream",
     "text": [
      "_c0 0\n",
      "id 0\n",
      "case_number 1\n",
      "date 0\n",
      "block 0\n",
      "iucr 0\n",
      "primary_type 0\n",
      "description 0\n",
      "location_description 1658\n",
      "arrest 0\n",
      "domestic 0\n",
      "beat 0\n",
      "district 1\n",
      "ward 14\n",
      "community_area 40\n",
      "fbi_code 0\n",
      "x_coordinate 37083\n",
      "y_coordinate 37083\n",
      "year 0\n",
      "updated_on 0\n",
      "latitude 37083\n",
      "longitude 37083\n",
      "location 37083\n"
     ]
    }
   ],
   "source": [
    "for col in allCols:\n",
    "    print(col, df.filter((df[col] == \"\") | df[col].isNull()).count())\n",
    "\n",
    "## Identify the number of Null | NaN | Empty values in every column"
   ]
  },
  {
   "cell_type": "markdown",
   "metadata": {},
   "source": [
    "#### Getting rid of a rows without value in 'Location description' \n",
    "#### Replacing NaN and Null values with 'U' in all other columns (with a lot of gapes)"
   ]
  },
  {
   "cell_type": "markdown",
   "metadata": {},
   "source": [
    "---\n",
    "## Visualizing & Understanding the data"
   ]
  },
  {
   "cell_type": "code",
   "execution_count": 11,
   "metadata": {},
   "outputs": [],
   "source": [
    "# crime types count\n",
    "crime_type_groups = df.groupBy('primary_type').count()\n",
    "\n",
    "#crime localisations count\n",
    "crime_loc_groups = df.groupBy('location_description').count()"
   ]
  },
  {
   "cell_type": "code",
   "execution_count": 12,
   "metadata": {},
   "outputs": [],
   "source": [
    "#Order the groups we collected\n",
    "\n",
    "crime_type_counts = crime_type_groups.orderBy('count', ascending=False)\n",
    "crime_loc_counts = crime_loc_groups.orderBy('count', ascending=False)"
   ]
  },
  {
   "cell_type": "markdown",
   "metadata": {},
   "source": [
    "### Crime types\n",
    "\n",
    "These are the top 20 most frequent crime types:"
   ]
  },
  {
   "cell_type": "code",
   "execution_count": 13,
   "metadata": {},
   "outputs": [
    {
     "name": "stdout",
     "output_type": "stream",
     "text": [
      "+--------------------+------+\n",
      "|        primary_type| count|\n",
      "+--------------------+------+\n",
      "|               THEFT|329460|\n",
      "|             BATTERY|263700|\n",
      "|     CRIMINAL DAMAGE|155455|\n",
      "|           NARCOTICS|135240|\n",
      "|             ASSAULT| 91289|\n",
      "|       OTHER OFFENSE| 87874|\n",
      "|            BURGLARY| 83397|\n",
      "|  DECEPTIVE PRACTICE| 75495|\n",
      "| MOTOR VEHICLE THEFT| 61138|\n",
      "|             ROBBERY| 57313|\n",
      "|   CRIMINAL TRESPASS| 36912|\n",
      "|   WEAPONS VIOLATION| 17233|\n",
      "|PUBLIC PEACE VIOL...| 13122|\n",
      "|OFFENSE INVOLVING...| 11398|\n",
      "|        PROSTITUTION|  7633|\n",
      "| CRIM SEXUAL ASSAULT|  6823|\n",
      "|INTERFERENCE WITH...|  6195|\n",
      "|         SEX OFFENSE|  4885|\n",
      "|            HOMICIDE|  2649|\n",
      "|               ARSON|  2217|\n",
      "+--------------------+------+\n",
      "only showing top 20 rows\n",
      "\n",
      "+--------------------+------+\n",
      "|location_description| count|\n",
      "+--------------------+------+\n",
      "|              STREET|330471|\n",
      "|           RESIDENCE|233530|\n",
      "|           APARTMENT|185023|\n",
      "|            SIDEWALK|160891|\n",
      "|               OTHER| 55774|\n",
      "|PARKING LOT/GARAG...| 41768|\n",
      "|               ALLEY| 31771|\n",
      "|RESIDENTIAL YARD ...| 30645|\n",
      "|  SMALL RETAIL STORE| 28803|\n",
      "|SCHOOL, PUBLIC, B...| 25959|\n",
      "|          RESTAURANT| 25872|\n",
      "|    RESIDENCE-GARAGE| 25720|\n",
      "|RESIDENCE PORCH/H...| 25511|\n",
      "|VEHICLE NON-COMME...| 25104|\n",
      "|    DEPARTMENT STORE| 20709|\n",
      "|  GROCERY FOOD STORE| 15999|\n",
      "|         GAS STATION| 15387|\n",
      "|       PARK PROPERTY| 12270|\n",
      "|       BAR OR TAVERN|  9871|\n",
      "|COMMERCIAL / BUSI...|  7705|\n",
      "+--------------------+------+\n",
      "only showing top 20 rows\n",
      "\n"
     ]
    }
   ],
   "source": [
    "#Crimes types & localizations in numbers :\n",
    "\n",
    "#crime_type_counts.show(truncate=False)\n",
    "#crime_loc_counts.show(truncate=False)\n",
    "\n",
    "#To sum up :: that's how we can see a summary of the 'trending' crimes by types & by locations\n",
    "\n",
    "df.groupby('primary_type').count().orderBy('count', ascending=False).show()\n",
    "df.groupby('location_description').count().orderBy('count', ascending=False).show()"
   ]
  },
  {
   "cell_type": "markdown",
   "metadata": {},
   "source": [
    "#### Extracting dictionaries\n",
    "\n",
    " Extracting pandas dictionaries from RDD"
   ]
  },
  {
   "cell_type": "code",
   "execution_count": 14,
   "metadata": {},
   "outputs": [],
   "source": [
    "counts_pddf = pd.DataFrame(crime_type_counts.rdd.map(lambda line: line.asDict()).collect()).head(20)\n",
    "counts_pddf_loc = pd.DataFrame(crime_loc_counts.rdd.map(lambda line: line.asDict()).collect()).head(20)"
   ]
  },
  {
   "cell_type": "code",
   "execution_count": 15,
   "metadata": {},
   "outputs": [
    {
     "data": {
      "text/html": [
       "<div>\n",
       "<style scoped>\n",
       "    .dataframe tbody tr th:only-of-type {\n",
       "        vertical-align: middle;\n",
       "    }\n",
       "\n",
       "    .dataframe tbody tr th {\n",
       "        vertical-align: top;\n",
       "    }\n",
       "\n",
       "    .dataframe thead th {\n",
       "        text-align: right;\n",
       "    }\n",
       "</style>\n",
       "<table border=\"1\" class=\"dataframe\">\n",
       "  <thead>\n",
       "    <tr style=\"text-align: right;\">\n",
       "      <th></th>\n",
       "      <th>count</th>\n",
       "      <th>location_description</th>\n",
       "    </tr>\n",
       "  </thead>\n",
       "  <tbody>\n",
       "    <tr>\n",
       "      <th>0</th>\n",
       "      <td>330471</td>\n",
       "      <td>STREET</td>\n",
       "    </tr>\n",
       "    <tr>\n",
       "      <th>1</th>\n",
       "      <td>233530</td>\n",
       "      <td>RESIDENCE</td>\n",
       "    </tr>\n",
       "    <tr>\n",
       "      <th>2</th>\n",
       "      <td>185023</td>\n",
       "      <td>APARTMENT</td>\n",
       "    </tr>\n",
       "    <tr>\n",
       "      <th>3</th>\n",
       "      <td>160891</td>\n",
       "      <td>SIDEWALK</td>\n",
       "    </tr>\n",
       "    <tr>\n",
       "      <th>4</th>\n",
       "      <td>55774</td>\n",
       "      <td>OTHER</td>\n",
       "    </tr>\n",
       "    <tr>\n",
       "      <th>5</th>\n",
       "      <td>41768</td>\n",
       "      <td>PARKING LOT/GARAGE(NON.RESID.)</td>\n",
       "    </tr>\n",
       "    <tr>\n",
       "      <th>6</th>\n",
       "      <td>31771</td>\n",
       "      <td>ALLEY</td>\n",
       "    </tr>\n",
       "    <tr>\n",
       "      <th>7</th>\n",
       "      <td>30645</td>\n",
       "      <td>RESIDENTIAL YARD (FRONT/BACK)</td>\n",
       "    </tr>\n",
       "    <tr>\n",
       "      <th>8</th>\n",
       "      <td>28803</td>\n",
       "      <td>SMALL RETAIL STORE</td>\n",
       "    </tr>\n",
       "    <tr>\n",
       "      <th>9</th>\n",
       "      <td>25959</td>\n",
       "      <td>SCHOOL, PUBLIC, BUILDING</td>\n",
       "    </tr>\n",
       "  </tbody>\n",
       "</table>\n",
       "</div>"
      ],
      "text/plain": [
       "    count            location_description\n",
       "0  330471                          STREET\n",
       "1  233530                       RESIDENCE\n",
       "2  185023                       APARTMENT\n",
       "3  160891                        SIDEWALK\n",
       "4   55774                           OTHER\n",
       "5   41768  PARKING LOT/GARAGE(NON.RESID.)\n",
       "6   31771                           ALLEY\n",
       "7   30645   RESIDENTIAL YARD (FRONT/BACK)\n",
       "8   28803              SMALL RETAIL STORE\n",
       "9   25959        SCHOOL, PUBLIC, BUILDING"
      ]
     },
     "execution_count": 15,
     "metadata": {},
     "output_type": "execute_result"
    }
   ],
   "source": [
    "counts_pddf.head(10)\n",
    "counts_pddf_loc.head(10)\n"
   ]
  },
  {
   "cell_type": "code",
   "execution_count": 16,
   "metadata": {},
   "outputs": [
    {
     "data": {
      "text/plain": [
       "[Text(0,0.5,'Primary Type'), Text(0.5,0,'Crimes Record Count')]"
      ]
     },
     "execution_count": 16,
     "metadata": {},
     "output_type": "execute_result"
    },
    {
     "data": {
      "image/png": "[encoded data removed]",
      "text/plain": [
       "<Figure size 432x288 with 1 Axes>"
      ]
     },
     "metadata": {},
     "output_type": "display_data"
    }
   ],
   "source": [
    "## Just some seaborn params for a better view\n",
    "sns.set(style=\"whitegrid\")\n",
    "sns.set_color_codes(\"dark\")\n",
    "\n",
    "type_graph = sns.barplot(x='count', y='primary_type', data=counts_pddf)\n",
    "type_graph.set(ylabel=\"Primary Type\", xlabel=\"Crimes Record Count\")\n",
    "\n",
    "#Visualizing data records by primary type and their count"
   ]
  },
  {
   "cell_type": "code",
   "execution_count": 17,
   "metadata": {},
   "outputs": [
    {
     "data": {
      "text/plain": [
       "[Text(0,0.5,'location description'), Text(0.5,0,'Crimes Record Count')]"
      ]
     },
     "execution_count": 17,
     "metadata": {},
     "output_type": "execute_result"
    },
    {
     "data": {
      "image/png": "[encoded data removed]",
      "text/plain": [
       "<Figure size 432x288 with 1 Axes>"
      ]
     },
     "metadata": {},
     "output_type": "display_data"
    }
   ],
   "source": [
    "type_graph = sns.barplot(x='count', y='location_description', data=counts_pddf_loc)\n",
    "type_graph.set(ylabel=\"location description\", xlabel=\"Crimes Record Count\")\n",
    "\n",
    "#Visualizing data records by primary type and their count"
   ]
  },
  {
   "cell_type": "markdown",
   "metadata": {},
   "source": [
    "### Recorded Date"
   ]
  },
  {
   "cell_type": "code",
   "execution_count": 18,
   "metadata": {},
   "outputs": [
    {
     "name": "stdout",
     "output_type": "stream",
     "text": [
      "+----------------------+----------------------+\n",
      "|first_rec             |last_rec              |\n",
      "+----------------------+----------------------+\n",
      "|01/01/2012 01:00:00 AM|12/31/2016 12:56:00 AM|\n",
      "+----------------------+----------------------+\n",
      "\n",
      "+-----------------+\n",
      "|         duration|\n",
      "+-----------------+\n",
      "|5.002739726027397|\n",
      "+-----------------+\n",
      "\n"
     ]
    }
   ],
   "source": [
    "df.select(min('date').alias('first_rec'), max('date').alias('last_rec')).show(truncate=False)\n",
    "df.select((datediff(to_date(max('date'), \"MM/dd/yyyy\"), to_date(min('date'), \"MM/dd/yyyy\"))/365).alias('duration')).show()"
   ]
  },
  {
   "cell_type": "markdown",
   "metadata": {},
   "source": [
    "---\n",
    "#### Prepare dates for stats viewing :\n",
    "\n",
    "###### We will prepare dates columns in order to facilitate data viswualisation based on dates:\n",
    "###### Convert dates from string to Timestamp + add columns\n"
   ]
  },
  {
   "cell_type": "code",
   "execution_count": 19,
   "metadata": {},
   "outputs": [],
   "source": [
    "df = df.withColumn('date_time', to_timestamp('date', 'MM/dd/yyyy hh:mm:ss a'))\\\n",
    "       .withColumn('month', trunc('date_time', 'MM'))\\\n",
    "       .withColumn('year', trunc('date_time', 'yyyy'))"
   ]
  },
  {
   "cell_type": "markdown",
   "metadata": {},
   "source": [
    "### Statistics based on dates"
   ]
  },
  {
   "cell_type": "code",
   "execution_count": 20,
   "metadata": {},
   "outputs": [
    {
     "name": "stdout",
     "output_type": "stream",
     "text": [
      "+------+----------+-----+\n",
      "|arrest|month     |count|\n",
      "+------+----------+-----+\n",
      "|true  |2017-01-01|1902 |\n",
      "|true  |2016-12-01|3088 |\n",
      "|true  |2016-11-01|3385 |\n",
      "|true  |2016-10-01|3783 |\n",
      "+------+----------+-----+\n",
      "only showing top 4 rows\n",
      "\n"
     ]
    }
   ],
   "source": [
    "# crime types and arrest over years:\n",
    "type_arrest_date = df.groupBy(['arrest', 'month']).count().orderBy(['count'], ascending=[True, False])\n",
    "type_arrest_date = type_arrest_date.dropna()\n",
    "type_arrest_date.show(4, truncate=False)"
   ]
  },
  {
   "cell_type": "code",
   "execution_count": 21,
   "metadata": {},
   "outputs": [
    {
     "name": "stdout",
     "output_type": "stream",
     "text": [
      "+------+-------------------------------------------+----------+-----+\n",
      "|arrest|location_description                       |month     |count|\n",
      "+------+-------------------------------------------+----------+-----+\n",
      "|true  |AIRPORT BUILDING NON-TERMINAL - SECURE AREA|2014-06-01|1    |\n",
      "|false |FEDERAL BUILDING                           |2014-12-01|1    |\n",
      "|true  |FEDERAL BUILDING                           |2014-06-01|1    |\n",
      "+------+-------------------------------------------+----------+-----+\n",
      "only showing top 3 rows\n",
      "\n"
     ]
    }
   ],
   "source": [
    "# locations of crimes and arrest over years:\n",
    "loc_arrest_date = df.groupBy(['arrest','location_description', 'month']).count().orderBy(['count'], ascending=[True, False])\n",
    "loc_arrest_date = loc_arrest_date.dropna()\n",
    "loc_arrest_date.show(3, truncate=False)"
   ]
  },
  {
   "cell_type": "code",
   "execution_count": 22,
   "metadata": {},
   "outputs": [],
   "source": [
    "## Construct a pandas DF from the collected dictionary of the RDD\n",
    "temp_type_arrest_date = type_arrest_date\n",
    "type_arrest_pddf = pd.DataFrame(type_arrest_date.rdd.map(lambda l: l.asDict()).collect())\n",
    "\n",
    "## Add a column for Year & column for Month's name\n",
    "## We also should drop NaN values \n",
    "\n",
    "type_arrest_pddf = type_arrest_pddf.dropna()\n",
    "type_arrest_pddf['yearcr'] = type_arrest_pddf['month'].apply(lambda dt: datetime.datetime.strftime(pd.Timestamp(dt), '%Y'))\n",
    "#type_arrest_pddf['monthcr'] = type_arrest_pddf['month'].apply(lambda dt: datetime.datetime.strftime(pd.Timestamp(dt), '%m'))\n",
    "type_arrest_pddf['monthName'] = type_arrest_pddf['month'].apply(lambda dt: datetime.datetime.strftime(pd.Timestamp(dt), '%b'))"
   ]
  },
  {
   "cell_type": "code",
   "execution_count": 23,
   "metadata": {},
   "outputs": [
    {
     "data": {
      "text/html": [
       "<div>\n",
       "<style scoped>\n",
       "    .dataframe tbody tr th:only-of-type {\n",
       "        vertical-align: middle;\n",
       "    }\n",
       "\n",
       "    .dataframe tbody tr th {\n",
       "        vertical-align: top;\n",
       "    }\n",
       "\n",
       "    .dataframe thead th {\n",
       "        text-align: right;\n",
       "    }\n",
       "</style>\n",
       "<table border=\"1\" class=\"dataframe\">\n",
       "  <thead>\n",
       "    <tr style=\"text-align: right;\">\n",
       "      <th></th>\n",
       "      <th>arrest</th>\n",
       "      <th>count</th>\n",
       "      <th>month</th>\n",
       "      <th>yearcr</th>\n",
       "      <th>monthName</th>\n",
       "    </tr>\n",
       "  </thead>\n",
       "  <tbody>\n",
       "    <tr>\n",
       "      <th>0</th>\n",
       "      <td>True</td>\n",
       "      <td>1902</td>\n",
       "      <td>2017-01-01</td>\n",
       "      <td>2017</td>\n",
       "      <td>Jan</td>\n",
       "    </tr>\n",
       "    <tr>\n",
       "      <th>1</th>\n",
       "      <td>True</td>\n",
       "      <td>3088</td>\n",
       "      <td>2016-12-01</td>\n",
       "      <td>2016</td>\n",
       "      <td>Dec</td>\n",
       "    </tr>\n",
       "    <tr>\n",
       "      <th>2</th>\n",
       "      <td>True</td>\n",
       "      <td>3385</td>\n",
       "      <td>2016-11-01</td>\n",
       "      <td>2016</td>\n",
       "      <td>Nov</td>\n",
       "    </tr>\n",
       "    <tr>\n",
       "      <th>3</th>\n",
       "      <td>True</td>\n",
       "      <td>3783</td>\n",
       "      <td>2016-10-01</td>\n",
       "      <td>2016</td>\n",
       "      <td>Oct</td>\n",
       "    </tr>\n",
       "    <tr>\n",
       "      <th>4</th>\n",
       "      <td>True</td>\n",
       "      <td>3831</td>\n",
       "      <td>2016-09-01</td>\n",
       "      <td>2016</td>\n",
       "      <td>Sep</td>\n",
       "    </tr>\n",
       "  </tbody>\n",
       "</table>\n",
       "</div>"
      ],
      "text/plain": [
       "   arrest  count       month yearcr monthName\n",
       "0    True   1902  2017-01-01   2017       Jan\n",
       "1    True   3088  2016-12-01   2016       Dec\n",
       "2    True   3385  2016-11-01   2016       Nov\n",
       "3    True   3783  2016-10-01   2016       Oct\n",
       "4    True   3831  2016-09-01   2016       Sep"
      ]
     },
     "execution_count": 23,
     "metadata": {},
     "output_type": "execute_result"
    }
   ],
   "source": [
    "type_arrest_pddf.head(5)"
   ]
  },
  {
   "cell_type": "code",
   "execution_count": 24,
   "metadata": {},
   "outputs": [
    {
     "data": {
      "text/html": [
       "<div>\n",
       "<style scoped>\n",
       "    .dataframe tbody tr th:only-of-type {\n",
       "        vertical-align: middle;\n",
       "    }\n",
       "\n",
       "    .dataframe tbody tr th {\n",
       "        vertical-align: top;\n",
       "    }\n",
       "\n",
       "    .dataframe thead th {\n",
       "        text-align: right;\n",
       "    }\n",
       "</style>\n",
       "<table border=\"1\" class=\"dataframe\">\n",
       "  <thead>\n",
       "    <tr style=\"text-align: right;\">\n",
       "      <th></th>\n",
       "      <th>yearcr</th>\n",
       "      <th>count</th>\n",
       "      <th>arrest</th>\n",
       "    </tr>\n",
       "  </thead>\n",
       "  <tbody>\n",
       "    <tr>\n",
       "      <th>0</th>\n",
       "      <td>2017</td>\n",
       "      <td>1902</td>\n",
       "      <td>True</td>\n",
       "    </tr>\n",
       "    <tr>\n",
       "      <th>1</th>\n",
       "      <td>2016</td>\n",
       "      <td>3088</td>\n",
       "      <td>True</td>\n",
       "    </tr>\n",
       "    <tr>\n",
       "      <th>2</th>\n",
       "      <td>2016</td>\n",
       "      <td>3385</td>\n",
       "      <td>True</td>\n",
       "    </tr>\n",
       "    <tr>\n",
       "      <th>3</th>\n",
       "      <td>2016</td>\n",
       "      <td>3783</td>\n",
       "      <td>True</td>\n",
       "    </tr>\n",
       "    <tr>\n",
       "      <th>4</th>\n",
       "      <td>2016</td>\n",
       "      <td>3831</td>\n",
       "      <td>True</td>\n",
       "    </tr>\n",
       "  </tbody>\n",
       "</table>\n",
       "</div>"
      ],
      "text/plain": [
       "  yearcr  count  arrest\n",
       "0   2017   1902    True\n",
       "1   2016   3088    True\n",
       "2   2016   3385    True\n",
       "3   2016   3783    True\n",
       "4   2016   3831    True"
      ]
     },
     "execution_count": 24,
     "metadata": {},
     "output_type": "execute_result"
    }
   ],
   "source": [
    "# Data for plotting\n",
    "\n",
    "arrest_by_year = type_arrest_pddf[['yearcr', 'count', 'arrest']].copy()\n",
    "\n",
    "## Let's filter all False Arrests => we have all True arrests\n",
    "indexNames = arrest_by_year[ arrest_by_year['arrest'] == False ].index\n",
    "\n",
    "# Delete these row indexes from dataFrame\n",
    "arrest_by_year.drop(indexNames , inplace=True)\n",
    "\n",
    "## Same for False arrests\n",
    "notarrest_by_year = type_arrest_pddf[['yearcr', 'count', 'arrest']].copy()\n",
    "\n",
    "## Let's filter all True Arrests => we have all False arrests\n",
    "indexNames = notarrest_by_year[ notarrest_by_year['arrest'] == True ].index\n",
    "\n",
    "# Delete these row indexes from dataFrame\n",
    "notarrest_by_year.drop(indexNames , inplace=True)\n",
    "\n",
    "arrest_by_year.head(5)"
   ]
  },
  {
   "cell_type": "code",
   "execution_count": 25,
   "metadata": {},
   "outputs": [
    {
     "data": {
      "text/html": [
       "<div>\n",
       "<style scoped>\n",
       "    .dataframe tbody tr th:only-of-type {\n",
       "        vertical-align: middle;\n",
       "    }\n",
       "\n",
       "    .dataframe tbody tr th {\n",
       "        vertical-align: top;\n",
       "    }\n",
       "\n",
       "    .dataframe thead th {\n",
       "        text-align: right;\n",
       "    }\n",
       "</style>\n",
       "<table border=\"1\" class=\"dataframe\">\n",
       "  <thead>\n",
       "    <tr style=\"text-align: right;\">\n",
       "      <th></th>\n",
       "      <th>yearcr</th>\n",
       "      <th>count</th>\n",
       "      <th>arrest</th>\n",
       "    </tr>\n",
       "  </thead>\n",
       "  <tbody>\n",
       "    <tr>\n",
       "      <th>61</th>\n",
       "      <td>2017</td>\n",
       "      <td>9455</td>\n",
       "      <td>False</td>\n",
       "    </tr>\n",
       "    <tr>\n",
       "      <th>62</th>\n",
       "      <td>2015</td>\n",
       "      <td>11162</td>\n",
       "      <td>False</td>\n",
       "    </tr>\n",
       "    <tr>\n",
       "      <th>63</th>\n",
       "      <td>2014</td>\n",
       "      <td>12178</td>\n",
       "      <td>False</td>\n",
       "    </tr>\n",
       "    <tr>\n",
       "      <th>64</th>\n",
       "      <td>2014</td>\n",
       "      <td>14170</td>\n",
       "      <td>False</td>\n",
       "    </tr>\n",
       "    <tr>\n",
       "      <th>65</th>\n",
       "      <td>2016</td>\n",
       "      <td>14442</td>\n",
       "      <td>False</td>\n",
       "    </tr>\n",
       "  </tbody>\n",
       "</table>\n",
       "</div>"
      ],
      "text/plain": [
       "   yearcr  count  arrest\n",
       "61   2017   9455   False\n",
       "62   2015  11162   False\n",
       "63   2014  12178   False\n",
       "64   2014  14170   False\n",
       "65   2016  14442   False"
      ]
     },
     "execution_count": 25,
     "metadata": {},
     "output_type": "execute_result"
    }
   ],
   "source": [
    "notarrest_by_year.head(5)"
   ]
  },
  {
   "cell_type": "code",
   "execution_count": 26,
   "metadata": {},
   "outputs": [],
   "source": [
    "arrest_by_year = arrest_by_year.groupby(['yearcr']).sum()\n",
    "notarrest_by_year = notarrest_by_year.groupby(['yearcr']).sum()"
   ]
  },
  {
   "cell_type": "markdown",
   "metadata": {},
   "source": [
    "### Now we have Crimes over all the years and also their status = Arrest / No arrest"
   ]
  },
  {
   "cell_type": "code",
   "execution_count": 27,
   "metadata": {},
   "outputs": [
    {
     "data": {
      "text/plain": [
       "<matplotlib.legend.Legend at 0x7f1e01014828>"
      ]
     },
     "execution_count": 27,
     "metadata": {},
     "output_type": "execute_result"
    },
    {
     "data": {
      "image/png": "[encoded data removed]",
      "text/plain": [
       "<Figure size 432x288 with 1 Axes>"
      ]
     },
     "metadata": {},
     "output_type": "display_data"
    }
   ],
   "source": [
    "## Let's view those arrests by years \n",
    "\n",
    "fig, ax = plt.subplots()\n",
    "months = ['2012','2013','2014','2015', '2016']\n",
    "ax.plot(months, arrest_by_year['count'].drop('2017'), label='arrests')\n",
    "ax.plot(months, notarrest_by_year['count'].drop('2017'), label='no arrests')\n",
    "\n",
    "ax.set(xlabel='Years', ylabel='arrests',title='Arrests per years')\n",
    "ax.grid(b=True, which='both', axis='y')\n",
    "ax.legend()"
   ]
  },
  {
   "cell_type": "markdown",
   "metadata": {},
   "source": [
    "### Distance between Arrests & Non-arrests increased between 2015 & 2016"
   ]
  },
  {
   "cell_type": "markdown",
   "metadata": {},
   "source": [
    "#### Add column for hourly based analysis"
   ]
  },
  {
   "cell_type": "code",
   "execution_count": 28,
   "metadata": {},
   "outputs": [
    {
     "name": "stdout",
     "output_type": "stream",
     "text": [
      "+-----------------+----+-----+\n",
      "|     primary_type|hour|count|\n",
      "+-----------------+----+-----+\n",
      "|WEAPONS VIOLATION|  23| 1228|\n",
      "|        OBSCENITY|  14|    7|\n",
      "|        OBSCENITY|  11|    7|\n",
      "|          ROBBERY|  14| 2340|\n",
      "|      SEX OFFENSE|  18|  220|\n",
      "+-----------------+----+-----+\n",
      "only showing top 5 rows\n",
      "\n"
     ]
    }
   ],
   "source": [
    "df_hour = df.withColumn('hour', hour(df['date_time']))\n",
    "\n",
    "## Clean data\n",
    "df_hour = df_hour.dropna()\n",
    "\n",
    "## Count crimes by hours & types\n",
    "hourly_count = df_hour.groupBy(['primary_type', 'hour']).count().cache()\n",
    "hourly_count.show(5)"
   ]
  },
  {
   "cell_type": "code",
   "execution_count": 29,
   "metadata": {},
   "outputs": [
    {
     "name": "stdout",
     "output_type": "stream",
     "text": [
      "+----+----------+\n",
      "|hour|sum(count)|\n",
      "+----+----------+\n",
      "|  12|     80695|\n",
      "|  22|     74581|\n",
      "|   1|     42954|\n",
      "|  13|     67802|\n",
      "|   6|     23834|\n",
      "|  16|     74338|\n",
      "|   3|     30447|\n",
      "|  20|     79262|\n",
      "|   5|     19758|\n",
      "|  19|     82454|\n",
      "|  15|     78011|\n",
      "|   9|     64571|\n",
      "|  17|     73841|\n",
      "|   4|     22840|\n",
      "|   8|     48842|\n",
      "|  23|     60217|\n",
      "|   7|     33667|\n",
      "|  10|     62989|\n",
      "|  21|     75164|\n",
      "|  11|     65280|\n",
      "+----+----------+\n",
      "only showing top 20 rows\n",
      "\n"
     ]
    }
   ],
   "source": [
    "## Regroup crimes by hours and sum number of crimes we counted\n",
    "\n",
    "hourly_total_count = hourly_count.groupBy('hour').sum('count')\n",
    "hourly_total_count.show()"
   ]
  },
  {
   "cell_type": "code",
   "execution_count": 30,
   "metadata": {},
   "outputs": [
    {
     "data": {
      "text/html": [
       "<div>\n",
       "<style scoped>\n",
       "    .dataframe tbody tr th:only-of-type {\n",
       "        vertical-align: middle;\n",
       "    }\n",
       "\n",
       "    .dataframe tbody tr th {\n",
       "        vertical-align: top;\n",
       "    }\n",
       "\n",
       "    .dataframe thead th {\n",
       "        text-align: right;\n",
       "    }\n",
       "</style>\n",
       "<table border=\"1\" class=\"dataframe\">\n",
       "  <thead>\n",
       "    <tr style=\"text-align: right;\">\n",
       "      <th></th>\n",
       "      <th>hour</th>\n",
       "      <th>sum(count)</th>\n",
       "    </tr>\n",
       "  </thead>\n",
       "  <tbody>\n",
       "    <tr>\n",
       "      <th>22</th>\n",
       "      <td>0</td>\n",
       "      <td>67602</td>\n",
       "    </tr>\n",
       "    <tr>\n",
       "      <th>2</th>\n",
       "      <td>1</td>\n",
       "      <td>42954</td>\n",
       "    </tr>\n",
       "    <tr>\n",
       "      <th>21</th>\n",
       "      <td>2</td>\n",
       "      <td>36774</td>\n",
       "    </tr>\n",
       "    <tr>\n",
       "      <th>6</th>\n",
       "      <td>3</td>\n",
       "      <td>30447</td>\n",
       "    </tr>\n",
       "    <tr>\n",
       "      <th>13</th>\n",
       "      <td>4</td>\n",
       "      <td>22840</td>\n",
       "    </tr>\n",
       "  </tbody>\n",
       "</table>\n",
       "</div>"
      ],
      "text/plain": [
       "    hour  sum(count)\n",
       "22     0       67602\n",
       "2      1       42954\n",
       "21     2       36774\n",
       "6      3       30447\n",
       "13     4       22840"
      ]
     },
     "execution_count": 30,
     "metadata": {},
     "output_type": "execute_result"
    }
   ],
   "source": [
    "## Create a pandas dataframe from hourly_data_count\n",
    "collected_dict = hourly_total_count.select(hourly_total_count['hour'], hourly_total_count['sum(count)'])\\\n",
    "                                .rdd.map(lambda l: l.asDict())\\\n",
    "                                .collect()\n",
    "\n",
    "hourly_count_pddf = pd.DataFrame(collected_dict).sort_values(by='hour')\n",
    "\n",
    "hourly_count_pddf.head(5)"
   ]
  },
  {
   "cell_type": "code",
   "execution_count": 43,
   "metadata": {},
   "outputs": [
    {
     "data": {
      "text/plain": [
       "<matplotlib.legend.Legend at 0x7f1e00defeb8>"
      ]
     },
     "execution_count": 43,
     "metadata": {},
     "output_type": "execute_result"
    },
    {
     "data": {
      "image/png": "[encoded data removed]",
      "text/plain": [
       "<Figure size 432x288 with 1 Axes>"
      ]
     },
     "metadata": {},
     "output_type": "display_data"
    }
   ],
   "source": [
    "fig, ax = plt.subplots()\n",
    "ax.plot(hourly_count_pddf['hour'], hourly_count_pddf['sum(count)'], label='Crimes count')\n",
    "\n",
    "ax.set(xlabel='hour', ylabel='crimes', title='crimes per day hours')\n",
    "ax.grid(b=True, which='y', axis='y')\n",
    "ax.legend()"
   ]
  },
  {
   "cell_type": "code",
   "execution_count": 48,
   "metadata": {},
   "outputs": [
    {
     "name": "stdout",
     "output_type": "stream",
     "text": [
      "Enabling notebook extension jupyter-leaflet/extension...\r\n",
      "      - Validating: \u001b[32mOK\u001b[0m\r\n"
     ]
    }
   ],
   "source": [
    "!jupyter nbextension enable --py --sys-prefix ipyleaflet"
   ]
  },
  {
   "cell_type": "code",
   "execution_count": 5,
   "metadata": {},
   "outputs": [
    {
     "data": {
      "application/vnd.jupyter.widget-view+json": {
       "model_id": "57b074f2e7b2405dbff0f9895fce3d98",
       "version_major": 2,
       "version_minor": 0
      },
      "text/plain": [
       "Map(basemap={'url': 'https://{s}.tile.openstreetmap.org/{z}/{x}/{y}.png', 'max_zoom': 19, 'attribution': 'Map …"
      ]
     },
     "metadata": {},
     "output_type": "display_data"
    }
   ],
   "source": [
    "from ipyleaflet import Map\n",
    "m=Map(center = [40.75, -74.00], zoom = 14)\n",
    "m"
   ]
  },
  {
   "cell_type": "code",
   "execution_count": null,
   "metadata": {},
   "outputs": [],
   "source": []
  }
 ],
 "metadata": {
  "kernelspec": {
   "display_name": "Python 3",
   "language": "python",
   "name": "python3"
  },
  "language_info": {
   "codemirror_mode": {
    "name": "ipython",
    "version": 3
   },
   "file_extension": ".py",
   "mimetype": "text/x-python",
   "name": "python",
   "nbconvert_exporter": "python",
   "pygments_lexer": "ipython3",
   "version": "3.6.5"
  }
 },
 "nbformat": 4,
 "nbformat_minor": 2
}
