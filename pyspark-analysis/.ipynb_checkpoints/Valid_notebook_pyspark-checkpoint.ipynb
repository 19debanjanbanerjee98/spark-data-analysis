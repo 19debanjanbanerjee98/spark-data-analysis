{
 "cells": [
  {
   "cell_type": "code",
   "execution_count": 1,
   "metadata": {},
   "outputs": [],
   "source": [
    "#pyspark\n",
    "from pyspark.sql import Row, SparkSession\n",
    "from pyspark.sql.functions import *\n",
    "\n",
    "import datetime\n",
    "from pyspark.sql.functions import *\n",
    "from pyspark.sql.types import DateType\n",
    "\n",
    "import datetime\n",
    "import numpy as np\n",
    "import pandas as pd\n",
    "import seaborn as sns\n",
    "import matplotlib.pyplot as plt\n",
    "\n",
    "%matplotlib inline\n",
    "\n",
    "#jupyter dataViz opts\n",
    "plt.rcParams[\"figure.figsize\"] = [20, 8]"
   ]
  },
  {
   "cell_type": "markdown",
   "metadata": {},
   "source": [
    "# Prepare dataset :\n",
    "\n",
    "Dataset downloaded from :\n",
    "\n",
    "https://data.cityofchicago.org/Public-Safety/Crimes-2001-to-present/ijzp-q8t2\n",
    "\n",
    "https://www.kaggle.com/djonafegnem/chicago-crime-data-analysis"
   ]
  },
  {
   "cell_type": "code",
   "execution_count": 2,
   "metadata": {},
   "outputs": [],
   "source": [
    "## We add our data headers [grabbed from Kaggle]\n",
    "## Each header has a description\n",
    "### Columns description from : https://data.cityofchicago.org/Public-Safety/Crimes-2001-to-present/ijzp-q8t2\n",
    "\n",
    "with open(\"../datasets/data_headers.csv\",\"r\") as myfile:\n",
    "    content_cols = myfile.read()"
   ]
  },
  {
   "cell_type": "markdown",
   "metadata": {},
   "source": [
    "---\n",
    "\n",
    "### Clean and prepare Headers :\n",
    "##### Removing 'Blank space' and replacing it by '_'"
   ]
  },
  {
   "cell_type": "code",
   "execution_count": 3,
   "metadata": {},
   "outputs": [],
   "source": [
    "#list of headers => list of dictionaries\n",
    "\n",
    "def entry_dic(line):\n",
    "    elements = line.split(' - ')\n",
    "    return {'title': elements[0], 'description': elements[1], 'header': elements[0].lower().replace(' ', '_')}"
   ]
  },
  {
   "cell_type": "code",
   "execution_count": 4,
   "metadata": {},
   "outputs": [],
   "source": [
    "#Go all over the headers & construct a dictionary \n",
    "#Split lines using '\\n'\n",
    "\n",
    "header_dics = list(map(entry_dic, list(filter(lambda l: l != '', content_cols.split('\\n')))))"
   ]
  },
  {
   "cell_type": "code",
   "execution_count": 5,
   "metadata": {},
   "outputs": [
    {
     "name": "stdout",
     "output_type": "stream",
     "text": [
      "Case Number\n",
      "case_number\n"
     ]
    }
   ],
   "source": [
    "print(header_dics[:2][1]['title'])\n",
    "#We'll use header, we'll access it using '.'\n",
    "print(header_dics[:2][1]['header'])"
   ]
  },
  {
   "cell_type": "markdown",
   "metadata": {},
   "source": [
    "---\n",
    "### Importing data :\n"
   ]
  },
  {
   "cell_type": "code",
   "execution_count": 6,
   "metadata": {},
   "outputs": [],
   "source": [
    "#Loading a data frame from the dataset\n",
    "df = spark.read.csv('../datasets/*.csv', inferSchema=True, header=True).cache()\n",
    "#df = df.cache()\n"
   ]
  },
  {
   "cell_type": "code",
   "execution_count": 8,
   "metadata": {},
   "outputs": [
    {
     "data": {
      "text/plain": [
       "1456749"
      ]
     },
     "execution_count": 8,
     "metadata": {},
     "output_type": "execute_result"
    }
   ],
   "source": [
    "#df.count()"
   ]
  },
  {
   "cell_type": "code",
   "execution_count": 7,
   "metadata": {},
   "outputs": [
    {
     "data": {
      "text/plain": [
       "['_c0',\n",
       " 'id',\n",
       " 'case_number',\n",
       " 'date',\n",
       " 'block',\n",
       " 'iucr',\n",
       " 'primary_type',\n",
       " 'description',\n",
       " 'location_description',\n",
       " 'arrest',\n",
       " 'domestic',\n",
       " 'beat',\n",
       " 'district',\n",
       " 'ward',\n",
       " 'community_area',\n",
       " 'fbi_code',\n",
       " 'x_coordinate',\n",
       " 'y_coordinate',\n",
       " 'year',\n",
       " 'updated_on',\n",
       " 'latitude',\n",
       " 'longitude',\n",
       " 'location']"
      ]
     },
     "execution_count": 7,
     "metadata": {},
     "output_type": "execute_result"
    }
   ],
   "source": [
    "#Headers of the dataframe\n",
    "for h in header_dics:\n",
    "    df = df.withColumnRenamed(h['title'], h['header'])\n",
    "    \n",
    "#Our features (columns)\n",
    "list(df.columns)"
   ]
  },
  {
   "cell_type": "markdown",
   "metadata": {},
   "source": [
    "---\n",
    "#### Identify and clean the dirty columns :\n"
   ]
  },
  {
   "cell_type": "code",
   "execution_count": 10,
   "metadata": {},
   "outputs": [
    {
     "name": "stdout",
     "output_type": "stream",
     "text": [
      "('_c0', 0)\n",
      "('id', 31)\n",
      "('case_number', 36)\n",
      "('date', 35)\n",
      "('block', 35)\n",
      "('iucr', 35)\n",
      "('primary_type', 35)\n",
      "('description', 35)\n",
      "('location_description', 1693)\n",
      "('arrest', 35)\n",
      "('domestic', 35)\n",
      "('beat', 35)\n",
      "('district', 36)\n",
      "('ward', 49)\n",
      "('community_area', 75)\n",
      "('fbi_code', 35)\n",
      "('x_coordinate', 37118)\n",
      "('y_coordinate', 37118)\n",
      "('year', 35)\n",
      "('updated_on', 35)\n",
      "('latitude', 37118)\n",
      "('longitude', 37118)\n",
      "('location', 37118)\n"
     ]
    }
   ],
   "source": [
    "for col in list(df.columns):\n",
    "    print(col, df.filter((df[col] == \"\") | df[col].isNull()).count())\n",
    "\n",
    "## Identify the number of Null | NaN | Empty values in every column"
   ]
  },
  {
   "cell_type": "markdown",
   "metadata": {},
   "source": [
    "---"
   ]
  },
  {
   "cell_type": "markdown",
   "metadata": {},
   "source": [
    "---\n",
    "## Visualizing & Understanding the data"
   ]
  },
  {
   "cell_type": "code",
   "execution_count": 11,
   "metadata": {},
   "outputs": [],
   "source": [
    "# crime types count\n",
    "crime_type_groups = df.groupBy('primary_type').count()\n",
    "\n",
    "#crime localisations count\n",
    "crime_loc_groups = df.groupBy('location_description').count()"
   ]
  },
  {
   "cell_type": "code",
   "execution_count": 12,
   "metadata": {},
   "outputs": [],
   "source": [
    "#Order the groups we collected\n",
    "\n",
    "crime_type_counts = crime_type_groups.orderBy('count', ascending=False)\n",
    "crime_loc_counts = crime_loc_groups.orderBy('count', ascending=False)"
   ]
  },
  {
   "cell_type": "markdown",
   "metadata": {},
   "source": [
    "## Top crime types (20) :\n"
   ]
  },
  {
   "cell_type": "code",
   "execution_count": 13,
   "metadata": {},
   "outputs": [
    {
     "name": "stdout",
     "output_type": "stream",
     "text": [
      "+--------------------+------+\n",
      "|        primary_type| count|\n",
      "+--------------------+------+\n",
      "|               THEFT|329460|\n",
      "|             BATTERY|263700|\n",
      "|     CRIMINAL DAMAGE|155455|\n",
      "|           NARCOTICS|135240|\n",
      "|             ASSAULT| 91289|\n",
      "|       OTHER OFFENSE| 87874|\n",
      "|            BURGLARY| 83397|\n",
      "|  DECEPTIVE PRACTICE| 75495|\n",
      "| MOTOR VEHICLE THEFT| 61138|\n",
      "|             ROBBERY| 57313|\n",
      "|   CRIMINAL TRESPASS| 36912|\n",
      "|   WEAPONS VIOLATION| 17233|\n",
      "|PUBLIC PEACE VIOL...| 13122|\n",
      "|OFFENSE INVOLVING...| 11398|\n",
      "|        PROSTITUTION|  7633|\n",
      "| CRIM SEXUAL ASSAULT|  6823|\n",
      "|INTERFERENCE WITH...|  6195|\n",
      "|         SEX OFFENSE|  4885|\n",
      "|            HOMICIDE|  2649|\n",
      "|               ARSON|  2217|\n",
      "+--------------------+------+\n",
      "only showing top 20 rows\n",
      "\n",
      "+--------------------+------+\n",
      "|location_description| count|\n",
      "+--------------------+------+\n",
      "|              STREET|330471|\n",
      "|           RESIDENCE|233530|\n",
      "|           APARTMENT|185023|\n",
      "|            SIDEWALK|160891|\n",
      "|               OTHER| 55774|\n",
      "|PARKING LOT/GARAG...| 41768|\n",
      "|               ALLEY| 31771|\n",
      "|RESIDENTIAL YARD ...| 30645|\n",
      "|  SMALL RETAIL STORE| 28803|\n",
      "|SCHOOL, PUBLIC, B...| 25959|\n",
      "|          RESTAURANT| 25872|\n",
      "|    RESIDENCE-GARAGE| 25720|\n",
      "|RESIDENCE PORCH/H...| 25511|\n",
      "|VEHICLE NON-COMME...| 25104|\n",
      "|    DEPARTMENT STORE| 20709|\n",
      "|  GROCERY FOOD STORE| 15999|\n",
      "|         GAS STATION| 15387|\n",
      "|       PARK PROPERTY| 12270|\n",
      "|       BAR OR TAVERN|  9871|\n",
      "|COMMERCIAL / BUSI...|  7705|\n",
      "+--------------------+------+\n",
      "only showing top 20 rows\n",
      "\n"
     ]
    }
   ],
   "source": [
    "#Crimes types & localizations in numbers :\n",
    "\n",
    "#crime_type_counts.show(truncate=False)\n",
    "#crime_loc_counts.show(truncate=False)\n",
    "\n",
    "#To sum up :: that's how we can see a summary of the 'trending' crimes by types & by locations\n",
    "\n",
    "df.groupby('primary_type').count().orderBy('count', ascending=False).show()\n",
    "df.groupby('location_description').count().orderBy('count', ascending=False).show()"
   ]
  },
  {
   "cell_type": "markdown",
   "metadata": {},
   "source": [
    "#### Extracting dictionaries pandas dictionaries from RDD\n"
   ]
  },
  {
   "cell_type": "code",
   "execution_count": 14,
   "metadata": {},
   "outputs": [],
   "source": [
    "counts_pddf = pd.DataFrame(crime_type_counts.rdd.map(lambda line: line.asDict()).collect()).head(20)\n",
    "counts_pddf_loc = pd.DataFrame(crime_loc_counts.rdd.map(lambda line: line.asDict()).collect()).head(20)"
   ]
  },
  {
   "cell_type": "code",
   "execution_count": 15,
   "metadata": {},
   "outputs": [
    {
     "data": {
      "text/html": [
       "<div>\n",
       "<style scoped>\n",
       "    .dataframe tbody tr th:only-of-type {\n",
       "        vertical-align: middle;\n",
       "    }\n",
       "\n",
       "    .dataframe tbody tr th {\n",
       "        vertical-align: top;\n",
       "    }\n",
       "\n",
       "    .dataframe thead th {\n",
       "        text-align: right;\n",
       "    }\n",
       "</style>\n",
       "<table border=\"1\" class=\"dataframe\">\n",
       "  <thead>\n",
       "    <tr style=\"text-align: right;\">\n",
       "      <th></th>\n",
       "      <th>count</th>\n",
       "      <th>location_description</th>\n",
       "    </tr>\n",
       "  </thead>\n",
       "  <tbody>\n",
       "    <tr>\n",
       "      <th>0</th>\n",
       "      <td>330471</td>\n",
       "      <td>STREET</td>\n",
       "    </tr>\n",
       "    <tr>\n",
       "      <th>1</th>\n",
       "      <td>233530</td>\n",
       "      <td>RESIDENCE</td>\n",
       "    </tr>\n",
       "    <tr>\n",
       "      <th>2</th>\n",
       "      <td>185023</td>\n",
       "      <td>APARTMENT</td>\n",
       "    </tr>\n",
       "    <tr>\n",
       "      <th>3</th>\n",
       "      <td>160891</td>\n",
       "      <td>SIDEWALK</td>\n",
       "    </tr>\n",
       "    <tr>\n",
       "      <th>4</th>\n",
       "      <td>55774</td>\n",
       "      <td>OTHER</td>\n",
       "    </tr>\n",
       "    <tr>\n",
       "      <th>5</th>\n",
       "      <td>41768</td>\n",
       "      <td>PARKING LOT/GARAGE(NON.RESID.)</td>\n",
       "    </tr>\n",
       "    <tr>\n",
       "      <th>6</th>\n",
       "      <td>31771</td>\n",
       "      <td>ALLEY</td>\n",
       "    </tr>\n",
       "    <tr>\n",
       "      <th>7</th>\n",
       "      <td>30645</td>\n",
       "      <td>RESIDENTIAL YARD (FRONT/BACK)</td>\n",
       "    </tr>\n",
       "    <tr>\n",
       "      <th>8</th>\n",
       "      <td>28803</td>\n",
       "      <td>SMALL RETAIL STORE</td>\n",
       "    </tr>\n",
       "    <tr>\n",
       "      <th>9</th>\n",
       "      <td>25959</td>\n",
       "      <td>SCHOOL, PUBLIC, BUILDING</td>\n",
       "    </tr>\n",
       "  </tbody>\n",
       "</table>\n",
       "</div>"
      ],
      "text/plain": [
       "    count            location_description\n",
       "0  330471                          STREET\n",
       "1  233530                       RESIDENCE\n",
       "2  185023                       APARTMENT\n",
       "3  160891                        SIDEWALK\n",
       "4   55774                           OTHER\n",
       "5   41768  PARKING LOT/GARAGE(NON.RESID.)\n",
       "6   31771                           ALLEY\n",
       "7   30645   RESIDENTIAL YARD (FRONT/BACK)\n",
       "8   28803              SMALL RETAIL STORE\n",
       "9   25959        SCHOOL, PUBLIC, BUILDING"
      ]
     },
     "execution_count": 15,
     "metadata": {},
     "output_type": "execute_result"
    }
   ],
   "source": [
    "counts_pddf.head(10)\n",
    "counts_pddf_loc.head(10)\n"
   ]
  },
  {
   "cell_type": "code",
   "execution_count": 16,
   "metadata": {},
   "outputs": [
    {
     "data": {
      "text/plain": [
       "[Text(0,0.5,'Primary Type'), Text(0.5,0,'Crimes Record Count')]"
      ]
     },
     "execution_count": 16,
     "metadata": {},
     "output_type": "execute_result"
    },
    {
     "data": {
      "image/png": "[encoded data removed]",
      "text/plain": [
       "<Figure size 432x288 with 1 Axes>"
      ]
     },
     "metadata": {},
     "output_type": "display_data"
    }
   ],
   "source": [
    "## Just some seaborn params for a better view\n",
    "sns.set(style=\"whitegrid\")\n",
    "sns.set_color_codes(\"dark\")\n",
    "\n",
    "type_graph = sns.barplot(x='count', y='primary_type', data=counts_pddf)\n",
    "type_graph.set(ylabel=\"Primary Type\", xlabel=\"Crimes Record Count\")\n",
    "\n",
    "#Visualizing data records by primary type and their count"
   ]
  },
  {
   "cell_type": "code",
   "execution_count": 17,
   "metadata": {},
   "outputs": [
    {
     "data": {
      "text/plain": [
       "[Text(0,0.5,'location description'), Text(0.5,0,'Crimes Record Count')]"
      ]
     },
     "execution_count": 17,
     "metadata": {},
     "output_type": "execute_result"
    },
    {
     "data": {
      "image/png": "[encoded data removed]",
      "text/plain": [
       "<Figure size 432x288 with 1 Axes>"
      ]
     },
     "metadata": {},
     "output_type": "display_data"
    }
   ],
   "source": [
    "type_graph = sns.barplot(x='count', y='location_description', data=counts_pddf_loc)\n",
    "type_graph.set(ylabel=\"location description\", xlabel=\"Crimes Record Count\")\n",
    "\n",
    "#Visualizing data records by primary type and their count"
   ]
  },
  {
   "cell_type": "markdown",
   "metadata": {},
   "source": [
    "### Recorded Date"
   ]
  },
  {
   "cell_type": "code",
   "execution_count": 18,
   "metadata": {},
   "outputs": [
    {
     "name": "stdout",
     "output_type": "stream",
     "text": [
      "+----------------------+----------------------+\n",
      "|first_rec             |last_rec              |\n",
      "+----------------------+----------------------+\n",
      "|01/01/2012 01:00:00 AM|12/31/2016 12:56:00 AM|\n",
      "+----------------------+----------------------+\n",
      "\n",
      "+-----------------+\n",
      "|         duration|\n",
      "+-----------------+\n",
      "|5.002739726027397|\n",
      "+-----------------+\n",
      "\n"
     ]
    }
   ],
   "source": [
    "df.select(min('date').alias('first_rec'), max('date').alias('last_rec')).show(truncate=False)\n",
    "df.select((datediff(to_date(max('date'), \"MM/dd/yyyy\"), to_date(min('date'), \"MM/dd/yyyy\"))/365).alias('duration')).show()"
   ]
  },
  {
   "cell_type": "markdown",
   "metadata": {},
   "source": [
    "---\n",
    "#### Prepare dates for stats viewing :\n",
    "\n",
    "###### We will prepare dates columns in order to facilitate data viswualisation based on dates:\n",
    "###### Convert dates from string to Timestamp + add columns\n"
   ]
  },
  {
   "cell_type": "code",
   "execution_count": 19,
   "metadata": {},
   "outputs": [],
   "source": [
    "df = df.withColumn('date_time', to_timestamp('date', 'MM/dd/yyyy hh:mm:ss a'))\\\n",
    "       .withColumn('month', trunc('date_time', 'MM'))\\\n",
    "       .withColumn('year', trunc('date_time', 'yyyy'))"
   ]
  },
  {
   "cell_type": "markdown",
   "metadata": {},
   "source": [
    "### Statistics based on dates"
   ]
  },
  {
   "cell_type": "code",
   "execution_count": 20,
   "metadata": {},
   "outputs": [
    {
     "name": "stdout",
     "output_type": "stream",
     "text": [
      "+------+----------+-----+\n",
      "|arrest|month     |count|\n",
      "+------+----------+-----+\n",
      "|true  |2017-01-01|1902 |\n",
      "|true  |2016-12-01|3088 |\n",
      "|true  |2016-11-01|3385 |\n",
      "|true  |2016-10-01|3783 |\n",
      "+------+----------+-----+\n",
      "only showing top 4 rows\n",
      "\n"
     ]
    }
   ],
   "source": [
    "# crime types and arrest over years:\n",
    "type_arrest_date = df.groupBy(['arrest', 'month']).count().orderBy(['count'], ascending=[True, False])\n",
    "type_arrest_date = type_arrest_date.dropna()\n",
    "type_arrest_date.show(4, truncate=False)"
   ]
  },
  {
   "cell_type": "code",
   "execution_count": 21,
   "metadata": {},
   "outputs": [
    {
     "name": "stdout",
     "output_type": "stream",
     "text": [
      "+------+------------------------------+----------+-----+\n",
      "|arrest|location_description          |month     |count|\n",
      "+------+------------------------------+----------+-----+\n",
      "|false |BOAT/WATERCRAFT               |2013-11-01|1    |\n",
      "|true  |DAY CARE CENTER               |2012-12-01|1    |\n",
      "|true  |LAKEFRONT/WATERFRONT/RIVERBANK|2015-05-01|1    |\n",
      "+------+------------------------------+----------+-----+\n",
      "only showing top 3 rows\n",
      "\n"
     ]
    }
   ],
   "source": [
    "# locations of crimes and arrest over years:\n",
    "loc_arrest_date = df.groupBy(['arrest','location_description', 'month']).count().orderBy(['count'], ascending=[True, False])\n",
    "loc_arrest_date = loc_arrest_date.dropna()\n",
    "loc_arrest_date.show(3, truncate=False)"
   ]
  },
  {
   "cell_type": "code",
   "execution_count": 22,
   "metadata": {},
   "outputs": [],
   "source": [
    "## Construct a pandas DF from the collected dictionary of the RDD\n",
    "temp_type_arrest_date = type_arrest_date\n",
    "type_arrest_pddf = pd.DataFrame(type_arrest_date.rdd.map(lambda l: l.asDict()).collect())\n",
    "\n",
    "## Add a column for Year & column for Month's name\n",
    "## We also should drop NaN values \n",
    "\n",
    "type_arrest_pddf = type_arrest_pddf.dropna()\n",
    "type_arrest_pddf['yearcr'] = type_arrest_pddf['month'].apply(lambda dt: datetime.datetime.strftime(pd.Timestamp(dt), '%Y'))\n",
    "#type_arrest_pddf['monthcr'] = type_arrest_pddf['month'].apply(lambda dt: datetime.datetime.strftime(pd.Timestamp(dt), '%m'))\n",
    "type_arrest_pddf['monthName'] = type_arrest_pddf['month'].apply(lambda dt: datetime.datetime.strftime(pd.Timestamp(dt), '%b'))"
   ]
  },
  {
   "cell_type": "code",
   "execution_count": 23,
   "metadata": {},
   "outputs": [
    {
     "data": {
      "text/html": [
       "<div>\n",
       "<style scoped>\n",
       "    .dataframe tbody tr th:only-of-type {\n",
       "        vertical-align: middle;\n",
       "    }\n",
       "\n",
       "    .dataframe tbody tr th {\n",
       "        vertical-align: top;\n",
       "    }\n",
       "\n",
       "    .dataframe thead th {\n",
       "        text-align: right;\n",
       "    }\n",
       "</style>\n",
       "<table border=\"1\" class=\"dataframe\">\n",
       "  <thead>\n",
       "    <tr style=\"text-align: right;\">\n",
       "      <th></th>\n",
       "      <th>arrest</th>\n",
       "      <th>count</th>\n",
       "      <th>month</th>\n",
       "      <th>yearcr</th>\n",
       "      <th>monthName</th>\n",
       "    </tr>\n",
       "  </thead>\n",
       "  <tbody>\n",
       "    <tr>\n",
       "      <th>0</th>\n",
       "      <td>True</td>\n",
       "      <td>1902</td>\n",
       "      <td>2017-01-01</td>\n",
       "      <td>2017</td>\n",
       "      <td>Jan</td>\n",
       "    </tr>\n",
       "    <tr>\n",
       "      <th>1</th>\n",
       "      <td>True</td>\n",
       "      <td>3088</td>\n",
       "      <td>2016-12-01</td>\n",
       "      <td>2016</td>\n",
       "      <td>Dec</td>\n",
       "    </tr>\n",
       "    <tr>\n",
       "      <th>2</th>\n",
       "      <td>True</td>\n",
       "      <td>3385</td>\n",
       "      <td>2016-11-01</td>\n",
       "      <td>2016</td>\n",
       "      <td>Nov</td>\n",
       "    </tr>\n",
       "    <tr>\n",
       "      <th>3</th>\n",
       "      <td>True</td>\n",
       "      <td>3783</td>\n",
       "      <td>2016-10-01</td>\n",
       "      <td>2016</td>\n",
       "      <td>Oct</td>\n",
       "    </tr>\n",
       "    <tr>\n",
       "      <th>4</th>\n",
       "      <td>True</td>\n",
       "      <td>3831</td>\n",
       "      <td>2016-09-01</td>\n",
       "      <td>2016</td>\n",
       "      <td>Sep</td>\n",
       "    </tr>\n",
       "  </tbody>\n",
       "</table>\n",
       "</div>"
      ],
      "text/plain": [
       "   arrest  count       month yearcr monthName\n",
       "0    True   1902  2017-01-01   2017       Jan\n",
       "1    True   3088  2016-12-01   2016       Dec\n",
       "2    True   3385  2016-11-01   2016       Nov\n",
       "3    True   3783  2016-10-01   2016       Oct\n",
       "4    True   3831  2016-09-01   2016       Sep"
      ]
     },
     "execution_count": 23,
     "metadata": {},
     "output_type": "execute_result"
    }
   ],
   "source": [
    "type_arrest_pddf.head(5)"
   ]
  },
  {
   "cell_type": "code",
   "execution_count": 24,
   "metadata": {},
   "outputs": [
    {
     "data": {
      "text/html": [
       "<div>\n",
       "<style scoped>\n",
       "    .dataframe tbody tr th:only-of-type {\n",
       "        vertical-align: middle;\n",
       "    }\n",
       "\n",
       "    .dataframe tbody tr th {\n",
       "        vertical-align: top;\n",
       "    }\n",
       "\n",
       "    .dataframe thead th {\n",
       "        text-align: right;\n",
       "    }\n",
       "</style>\n",
       "<table border=\"1\" class=\"dataframe\">\n",
       "  <thead>\n",
       "    <tr style=\"text-align: right;\">\n",
       "      <th></th>\n",
       "      <th>yearcr</th>\n",
       "      <th>count</th>\n",
       "      <th>arrest</th>\n",
       "    </tr>\n",
       "  </thead>\n",
       "  <tbody>\n",
       "    <tr>\n",
       "      <th>0</th>\n",
       "      <td>2017</td>\n",
       "      <td>1902</td>\n",
       "      <td>True</td>\n",
       "    </tr>\n",
       "    <tr>\n",
       "      <th>1</th>\n",
       "      <td>2016</td>\n",
       "      <td>3088</td>\n",
       "      <td>True</td>\n",
       "    </tr>\n",
       "    <tr>\n",
       "      <th>2</th>\n",
       "      <td>2016</td>\n",
       "      <td>3385</td>\n",
       "      <td>True</td>\n",
       "    </tr>\n",
       "    <tr>\n",
       "      <th>3</th>\n",
       "      <td>2016</td>\n",
       "      <td>3783</td>\n",
       "      <td>True</td>\n",
       "    </tr>\n",
       "    <tr>\n",
       "      <th>4</th>\n",
       "      <td>2016</td>\n",
       "      <td>3831</td>\n",
       "      <td>True</td>\n",
       "    </tr>\n",
       "  </tbody>\n",
       "</table>\n",
       "</div>"
      ],
      "text/plain": [
       "  yearcr  count  arrest\n",
       "0   2017   1902    True\n",
       "1   2016   3088    True\n",
       "2   2016   3385    True\n",
       "3   2016   3783    True\n",
       "4   2016   3831    True"
      ]
     },
     "execution_count": 24,
     "metadata": {},
     "output_type": "execute_result"
    }
   ],
   "source": [
    "# Data for plotting\n",
    "\n",
    "arrest_by_year = type_arrest_pddf[['yearcr', 'count', 'arrest']].copy()\n",
    "\n",
    "## Let's filter all False Arrests => we have all True arrests\n",
    "indexNames = arrest_by_year[ arrest_by_year['arrest'] == False ].index\n",
    "\n",
    "# Delete these row indexes from dataFrame\n",
    "arrest_by_year.drop(indexNames , inplace=True)\n",
    "\n",
    "## Same for False arrests\n",
    "notarrest_by_year = type_arrest_pddf[['yearcr', 'count', 'arrest']].copy()\n",
    "\n",
    "## Let's filter all True Arrests => we have all False arrests\n",
    "indexNames = notarrest_by_year[ notarrest_by_year['arrest'] == True ].index\n",
    "\n",
    "# Delete these row indexes from dataFrame\n",
    "notarrest_by_year.drop(indexNames , inplace=True)\n",
    "\n",
    "arrest_by_year.head(5)"
   ]
  },
  {
   "cell_type": "code",
   "execution_count": 25,
   "metadata": {},
   "outputs": [
    {
     "data": {
      "text/html": [
       "<div>\n",
       "<style scoped>\n",
       "    .dataframe tbody tr th:only-of-type {\n",
       "        vertical-align: middle;\n",
       "    }\n",
       "\n",
       "    .dataframe tbody tr th {\n",
       "        vertical-align: top;\n",
       "    }\n",
       "\n",
       "    .dataframe thead th {\n",
       "        text-align: right;\n",
       "    }\n",
       "</style>\n",
       "<table border=\"1\" class=\"dataframe\">\n",
       "  <thead>\n",
       "    <tr style=\"text-align: right;\">\n",
       "      <th></th>\n",
       "      <th>yearcr</th>\n",
       "      <th>count</th>\n",
       "      <th>arrest</th>\n",
       "    </tr>\n",
       "  </thead>\n",
       "  <tbody>\n",
       "    <tr>\n",
       "      <th>61</th>\n",
       "      <td>2017</td>\n",
       "      <td>9455</td>\n",
       "      <td>False</td>\n",
       "    </tr>\n",
       "    <tr>\n",
       "      <th>62</th>\n",
       "      <td>2015</td>\n",
       "      <td>11162</td>\n",
       "      <td>False</td>\n",
       "    </tr>\n",
       "    <tr>\n",
       "      <th>63</th>\n",
       "      <td>2014</td>\n",
       "      <td>12178</td>\n",
       "      <td>False</td>\n",
       "    </tr>\n",
       "    <tr>\n",
       "      <th>64</th>\n",
       "      <td>2014</td>\n",
       "      <td>14170</td>\n",
       "      <td>False</td>\n",
       "    </tr>\n",
       "    <tr>\n",
       "      <th>65</th>\n",
       "      <td>2016</td>\n",
       "      <td>14442</td>\n",
       "      <td>False</td>\n",
       "    </tr>\n",
       "  </tbody>\n",
       "</table>\n",
       "</div>"
      ],
      "text/plain": [
       "   yearcr  count  arrest\n",
       "61   2017   9455   False\n",
       "62   2015  11162   False\n",
       "63   2014  12178   False\n",
       "64   2014  14170   False\n",
       "65   2016  14442   False"
      ]
     },
     "execution_count": 25,
     "metadata": {},
     "output_type": "execute_result"
    }
   ],
   "source": [
    "notarrest_by_year.head(5)"
   ]
  },
  {
   "cell_type": "code",
   "execution_count": 26,
   "metadata": {},
   "outputs": [],
   "source": [
    "arrest_by_year = arrest_by_year.groupby(['yearcr']).sum()\n",
    "notarrest_by_year = notarrest_by_year.groupby(['yearcr']).sum()"
   ]
  },
  {
   "cell_type": "markdown",
   "metadata": {},
   "source": [
    "### Now we have Crimes over all the years and also their status = Arrest / No arrest"
   ]
  },
  {
   "cell_type": "code",
   "execution_count": 27,
   "metadata": {},
   "outputs": [
    {
     "data": {
      "text/plain": [
       "<matplotlib.legend.Legend at 0x7f3d118e1190>"
      ]
     },
     "execution_count": 27,
     "metadata": {},
     "output_type": "execute_result"
    },
    {
     "data": {
      "image/png": "[encoded data removed]",
      "text/plain": [
       "<Figure size 432x288 with 1 Axes>"
      ]
     },
     "metadata": {},
     "output_type": "display_data"
    }
   ],
   "source": [
    "## Let's view those arrests by years \n",
    "\n",
    "fig, ax = plt.subplots()\n",
    "months = ['2012','2013','2014','2015', '2016']\n",
    "ax.plot(months, arrest_by_year['count'].drop('2017'), label='arrests')\n",
    "ax.plot(months, notarrest_by_year['count'].drop('2017'), label='no arrests')\n",
    "\n",
    "ax.set(xlabel='Years', ylabel='arrests',title='Arrests per years')\n",
    "ax.grid(b=True, which='both', axis='y')\n",
    "ax.legend()"
   ]
  },
  {
   "cell_type": "markdown",
   "metadata": {},
   "source": [
    "### Distance between Arrests & Non-arrests increased between 2015 & 2016"
   ]
  },
  {
   "cell_type": "markdown",
   "metadata": {},
   "source": [
    "#### Add column for hourly based analysis"
   ]
  },
  {
   "cell_type": "code",
   "execution_count": 28,
   "metadata": {},
   "outputs": [
    {
     "name": "stdout",
     "output_type": "stream",
     "text": [
      "+-----------------+----+-----+\n",
      "|     primary_type|hour|count|\n",
      "+-----------------+----+-----+\n",
      "|WEAPONS VIOLATION|  23| 1228|\n",
      "|        OBSCENITY|  14|    7|\n",
      "|        OBSCENITY|  11|    7|\n",
      "|          ROBBERY|  14| 2340|\n",
      "|      SEX OFFENSE|  18|  220|\n",
      "+-----------------+----+-----+\n",
      "only showing top 5 rows\n",
      "\n"
     ]
    }
   ],
   "source": [
    "df_hour = df.withColumn('hour', hour(df['date_time']))\n",
    "\n",
    "## Clean data\n",
    "df_hour = df_hour.dropna()\n",
    "\n",
    "## Count crimes by hours & types\n",
    "hourly_count = df_hour.groupBy(['primary_type', 'hour']).count().cache()\n",
    "hourly_count.show(5)"
   ]
  },
  {
   "cell_type": "code",
   "execution_count": 29,
   "metadata": {},
   "outputs": [
    {
     "name": "stdout",
     "output_type": "stream",
     "text": [
      "+----+----------+\n",
      "|hour|sum(count)|\n",
      "+----+----------+\n",
      "|  12|     80695|\n",
      "|  22|     74581|\n",
      "|   1|     42954|\n",
      "|  13|     67802|\n",
      "|   6|     23834|\n",
      "|  16|     74338|\n",
      "|   3|     30447|\n",
      "|  20|     79262|\n",
      "|   5|     19758|\n",
      "|  19|     82454|\n",
      "|  15|     78011|\n",
      "|   9|     64571|\n",
      "|  17|     73841|\n",
      "|   4|     22840|\n",
      "|   8|     48842|\n",
      "|  23|     60217|\n",
      "|   7|     33667|\n",
      "|  10|     62989|\n",
      "|  21|     75164|\n",
      "|  11|     65280|\n",
      "+----+----------+\n",
      "only showing top 20 rows\n",
      "\n"
     ]
    }
   ],
   "source": [
    "## Regroup crimes by hours and sum number of crimes we counted\n",
    "\n",
    "hourly_total_count = hourly_count.groupBy('hour').sum('count')\n",
    "hourly_total_count.show()"
   ]
  },
  {
   "cell_type": "code",
   "execution_count": 30,
   "metadata": {},
   "outputs": [
    {
     "data": {
      "text/html": [
       "<div>\n",
       "<style scoped>\n",
       "    .dataframe tbody tr th:only-of-type {\n",
       "        vertical-align: middle;\n",
       "    }\n",
       "\n",
       "    .dataframe tbody tr th {\n",
       "        vertical-align: top;\n",
       "    }\n",
       "\n",
       "    .dataframe thead th {\n",
       "        text-align: right;\n",
       "    }\n",
       "</style>\n",
       "<table border=\"1\" class=\"dataframe\">\n",
       "  <thead>\n",
       "    <tr style=\"text-align: right;\">\n",
       "      <th></th>\n",
       "      <th>hour</th>\n",
       "      <th>sum(count)</th>\n",
       "    </tr>\n",
       "  </thead>\n",
       "  <tbody>\n",
       "    <tr>\n",
       "      <th>22</th>\n",
       "      <td>0</td>\n",
       "      <td>67602</td>\n",
       "    </tr>\n",
       "    <tr>\n",
       "      <th>2</th>\n",
       "      <td>1</td>\n",
       "      <td>42954</td>\n",
       "    </tr>\n",
       "    <tr>\n",
       "      <th>21</th>\n",
       "      <td>2</td>\n",
       "      <td>36774</td>\n",
       "    </tr>\n",
       "    <tr>\n",
       "      <th>6</th>\n",
       "      <td>3</td>\n",
       "      <td>30447</td>\n",
       "    </tr>\n",
       "    <tr>\n",
       "      <th>13</th>\n",
       "      <td>4</td>\n",
       "      <td>22840</td>\n",
       "    </tr>\n",
       "  </tbody>\n",
       "</table>\n",
       "</div>"
      ],
      "text/plain": [
       "    hour  sum(count)\n",
       "22     0       67602\n",
       "2      1       42954\n",
       "21     2       36774\n",
       "6      3       30447\n",
       "13     4       22840"
      ]
     },
     "execution_count": 30,
     "metadata": {},
     "output_type": "execute_result"
    }
   ],
   "source": [
    "## Create a pandas dataframe from hourly_data_count\n",
    "collected_dict = hourly_total_count.select(hourly_total_count['hour'], hourly_total_count['sum(count)'])\\\n",
    "                                .rdd.map(lambda l: l.asDict())\\\n",
    "                                .collect()\n",
    "\n",
    "hourly_count_pddf = pd.DataFrame(collected_dict).sort_values(by='hour')\n",
    "\n",
    "hourly_count_pddf.head(5)"
   ]
  },
  {
   "cell_type": "code",
   "execution_count": 31,
   "metadata": {},
   "outputs": [
    {
     "data": {
      "text/plain": [
       "<matplotlib.legend.Legend at 0x7f3d117eb4d0>"
      ]
     },
     "execution_count": 31,
     "metadata": {},
     "output_type": "execute_result"
    },
    {
     "data": {
      "image/png": "[encoded data removed]",
      "text/plain": [
       "<Figure size 432x288 with 1 Axes>"
      ]
     },
     "metadata": {},
     "output_type": "display_data"
    }
   ],
   "source": [
    "# Let's view crimes count by day hours\n",
    "\n",
    "fig, ax = plt.subplots()\n",
    "ax.plot(hourly_count_pddf['hour'], hourly_count_pddf['sum(count)'], label='Crimes count')\n",
    "\n",
    "ax.set(xlabel='hour', ylabel='crimes', title='crimes per day hours')\n",
    "ax.grid(b=True, which='y', axis='y')\n",
    "ax.legend()"
   ]
  },
  {
   "cell_type": "code",
   "execution_count": 32,
   "metadata": {},
   "outputs": [
    {
     "name": "stdout",
     "output_type": "stream",
     "text": [
      "Enabling notebook extension jupyter-leaflet/extension...\r\n",
      "      - Validating: \u001b[32mOK\u001b[0m\r\n"
     ]
    }
   ],
   "source": [
    "!jupyter nbextension enable --py --sys-prefix ipyleaflet"
   ]
  },
  {
   "cell_type": "code",
   "execution_count": 33,
   "metadata": {
    "scrolled": true
   },
   "outputs": [],
   "source": [
    "# Let's display the top crimes (by their count > 50) on a Map\n",
    "\n",
    "from ipyleaflet import Map, Marker, Icon\n",
    "\n",
    "chicago = (41.8781136, -87.62979819999998)\n",
    "ChicagoCity=Map(center = chicago, zoom = 13)"
   ]
  },
  {
   "cell_type": "code",
   "execution_count": 34,
   "metadata": {},
   "outputs": [],
   "source": [
    "crime_localisation = df.groupBy(['latitude' , 'longitude', 'primary_type']).count()"
   ]
  },
  {
   "cell_type": "code",
   "execution_count": 35,
   "metadata": {},
   "outputs": [],
   "source": [
    "localisation = pd.DataFrame(crime_localisation.rdd.map(lambda l: l.asDict()).collect())#.head(100)"
   ]
  },
  {
   "cell_type": "code",
   "execution_count": 36,
   "metadata": {},
   "outputs": [
    {
     "data": {
      "application/vnd.jupyter.widget-view+json": {
       "model_id": "4eb90cf095254b2a93d4638cd849fd40",
       "version_major": 2,
       "version_minor": 0
      },
      "text/plain": [
       "TWFwKGJhc2VtYXA9eyd1cmwnOiAnaHR0cHM6Ly97c30udGlsZS5vcGVuc3RyZWV0bWFwLm9yZy97en0ve3h9L3t5fS5wbmcnLCAnbWF4X3pvb20nOiAxOSwgJ2F0dHJpYnV0aW9uJzogJ01hcCDigKY=\n"
      ]
     },
     "metadata": {},
     "output_type": "display_data"
    }
   ],
   "source": [
    "icon = Icon(icon_url='https://leafletjs.com/examples/custom-icons/leaf-green.png', icon_size=[19, 47], icon_anchor=[11,46])\n",
    "for count, lat, long, crime in localisation.itertuples(index=False):\n",
    "    if count  > 50:\n",
    "        marker = Marker(location=(lat , long), draggable=False, title=crime, rise_on_hover=True, icon=icon, rotation_origin='11px 46px')\n",
    "        ChicagoCity.add_layer(marker);\n",
    "\n",
    "ChicagoCity    "
   ]
  },
  {
   "cell_type": "markdown",
   "metadata": {},
   "source": [
    "---\n"
   ]
  },
  {
   "cell_type": "code",
   "execution_count": 37,
   "metadata": {},
   "outputs": [],
   "source": [
    "import numpy as np\n",
    "from sklearn import svm\n",
    "from sklearn.datasets import make_classification\n",
    "from sklearn.model_selection import train_test_split\n",
    "from sklearn.model_selection import GridSearchCV\n",
    "import pandas as pd\n",
    "import pyspark\n",
    "import pyspark.sql.functions as F\n",
    "from pyspark.sql.types import DoubleType, StringType, ArrayType\n",
    "from pyspark.ml.classification import LogisticRegression\n",
    "from pyspark.ml.classification import DecisionTreeClassifier\n",
    "from pyspark.ml.feature import IndexToString, StringIndexer, VectorAssembler"
   ]
  },
  {
   "cell_type": "code",
   "execution_count": 38,
   "metadata": {},
   "outputs": [
    {
     "data": {
      "text/plain": [
       "DataFrame[location_description: string, hour: int, primary_type: string]"
      ]
     },
     "execution_count": 38,
     "metadata": {},
     "output_type": "execute_result"
    }
   ],
   "source": [
    "# Number of types of location recorded in the dataset\n",
    "#df.select('location_description').distinct().count()\n",
    "df_hour.select('location_description', 'hour', 'primary_type').distinct()"
   ]
  },
  {
   "cell_type": "code",
   "execution_count": 39,
   "metadata": {},
   "outputs": [
    {
     "data": {
      "text/html": [
       "<div>\n",
       "<style scoped>\n",
       "    .dataframe tbody tr th:only-of-type {\n",
       "        vertical-align: middle;\n",
       "    }\n",
       "\n",
       "    .dataframe tbody tr th {\n",
       "        vertical-align: top;\n",
       "    }\n",
       "\n",
       "    .dataframe thead th {\n",
       "        text-align: right;\n",
       "    }\n",
       "</style>\n",
       "<table border=\"1\" class=\"dataframe\">\n",
       "  <thead>\n",
       "    <tr style=\"text-align: right;\">\n",
       "      <th></th>\n",
       "      <th>hour</th>\n",
       "      <th>location_description</th>\n",
       "      <th>primary_type</th>\n",
       "    </tr>\n",
       "  </thead>\n",
       "  <tbody>\n",
       "    <tr>\n",
       "      <th>0</th>\n",
       "      <td>14</td>\n",
       "      <td>STREET</td>\n",
       "      <td>CRIMINAL DAMAGE</td>\n",
       "    </tr>\n",
       "    <tr>\n",
       "      <th>1</th>\n",
       "      <td>9</td>\n",
       "      <td>RESIDENCE PORCH/HALLWAY</td>\n",
       "      <td>THEFT</td>\n",
       "    </tr>\n",
       "    <tr>\n",
       "      <th>2</th>\n",
       "      <td>8</td>\n",
       "      <td>STREET</td>\n",
       "      <td>BATTERY</td>\n",
       "    </tr>\n",
       "    <tr>\n",
       "      <th>3</th>\n",
       "      <td>15</td>\n",
       "      <td>STREET</td>\n",
       "      <td>BATTERY</td>\n",
       "    </tr>\n",
       "    <tr>\n",
       "      <th>4</th>\n",
       "      <td>20</td>\n",
       "      <td>SIDEWALK</td>\n",
       "      <td>LIQUOR LAW VIOLATION</td>\n",
       "    </tr>\n",
       "    <tr>\n",
       "      <th>5</th>\n",
       "      <td>3</td>\n",
       "      <td>GAS STATION</td>\n",
       "      <td>THEFT</td>\n",
       "    </tr>\n",
       "    <tr>\n",
       "      <th>6</th>\n",
       "      <td>20</td>\n",
       "      <td>DEPARTMENT STORE</td>\n",
       "      <td>THEFT</td>\n",
       "    </tr>\n",
       "    <tr>\n",
       "      <th>7</th>\n",
       "      <td>6</td>\n",
       "      <td>PARKING LOT/GARAGE(NON.RESID.)</td>\n",
       "      <td>BATTERY</td>\n",
       "    </tr>\n",
       "    <tr>\n",
       "      <th>8</th>\n",
       "      <td>23</td>\n",
       "      <td>APARTMENT</td>\n",
       "      <td>OTHER OFFENSE</td>\n",
       "    </tr>\n",
       "    <tr>\n",
       "      <th>9</th>\n",
       "      <td>1</td>\n",
       "      <td>TAXICAB</td>\n",
       "      <td>DECEPTIVE PRACTICE</td>\n",
       "    </tr>\n",
       "    <tr>\n",
       "      <th>10</th>\n",
       "      <td>5</td>\n",
       "      <td>CURRENCY EXCHANGE</td>\n",
       "      <td>DECEPTIVE PRACTICE</td>\n",
       "    </tr>\n",
       "    <tr>\n",
       "      <th>11</th>\n",
       "      <td>17</td>\n",
       "      <td>COMMERCIAL / BUSINESS OFFICE</td>\n",
       "      <td>THEFT</td>\n",
       "    </tr>\n",
       "    <tr>\n",
       "      <th>12</th>\n",
       "      <td>21</td>\n",
       "      <td>RESIDENCE PORCH/HALLWAY</td>\n",
       "      <td>CRIMINAL DAMAGE</td>\n",
       "    </tr>\n",
       "    <tr>\n",
       "      <th>13</th>\n",
       "      <td>15</td>\n",
       "      <td>STREET</td>\n",
       "      <td>CRIMINAL TRESPASS</td>\n",
       "    </tr>\n",
       "    <tr>\n",
       "      <th>14</th>\n",
       "      <td>11</td>\n",
       "      <td>CTA TRAIN</td>\n",
       "      <td>ROBBERY</td>\n",
       "    </tr>\n",
       "    <tr>\n",
       "      <th>15</th>\n",
       "      <td>15</td>\n",
       "      <td>STREET</td>\n",
       "      <td>WEAPONS VIOLATION</td>\n",
       "    </tr>\n",
       "    <tr>\n",
       "      <th>16</th>\n",
       "      <td>16</td>\n",
       "      <td>COMMERCIAL / BUSINESS OFFICE</td>\n",
       "      <td>BATTERY</td>\n",
       "    </tr>\n",
       "    <tr>\n",
       "      <th>17</th>\n",
       "      <td>19</td>\n",
       "      <td>HOSPITAL BUILDING/GROUNDS</td>\n",
       "      <td>BATTERY</td>\n",
       "    </tr>\n",
       "    <tr>\n",
       "      <th>18</th>\n",
       "      <td>15</td>\n",
       "      <td>RESIDENCE</td>\n",
       "      <td>PUBLIC PEACE VIOLATION</td>\n",
       "    </tr>\n",
       "    <tr>\n",
       "      <th>19</th>\n",
       "      <td>18</td>\n",
       "      <td>COMMERCIAL / BUSINESS OFFICE</td>\n",
       "      <td>BURGLARY</td>\n",
       "    </tr>\n",
       "    <tr>\n",
       "      <th>20</th>\n",
       "      <td>15</td>\n",
       "      <td>APARTMENT</td>\n",
       "      <td>OFFENSE INVOLVING CHILDREN</td>\n",
       "    </tr>\n",
       "    <tr>\n",
       "      <th>21</th>\n",
       "      <td>22</td>\n",
       "      <td>CHA PARKING LOT/GROUNDS</td>\n",
       "      <td>NARCOTICS</td>\n",
       "    </tr>\n",
       "    <tr>\n",
       "      <th>22</th>\n",
       "      <td>10</td>\n",
       "      <td>SCHOOL, PUBLIC, BUILDING</td>\n",
       "      <td>CRIMINAL TRESPASS</td>\n",
       "    </tr>\n",
       "    <tr>\n",
       "      <th>23</th>\n",
       "      <td>7</td>\n",
       "      <td>COMMERCIAL / BUSINESS OFFICE</td>\n",
       "      <td>THEFT</td>\n",
       "    </tr>\n",
       "    <tr>\n",
       "      <th>24</th>\n",
       "      <td>1</td>\n",
       "      <td>BAR OR TAVERN</td>\n",
       "      <td>DECEPTIVE PRACTICE</td>\n",
       "    </tr>\n",
       "    <tr>\n",
       "      <th>25</th>\n",
       "      <td>22</td>\n",
       "      <td>HOSPITAL BUILDING/GROUNDS</td>\n",
       "      <td>ASSAULT</td>\n",
       "    </tr>\n",
       "    <tr>\n",
       "      <th>26</th>\n",
       "      <td>16</td>\n",
       "      <td>PARK PROPERTY</td>\n",
       "      <td>LIQUOR LAW VIOLATION</td>\n",
       "    </tr>\n",
       "    <tr>\n",
       "      <th>27</th>\n",
       "      <td>19</td>\n",
       "      <td>ABANDONED BUILDING</td>\n",
       "      <td>NARCOTICS</td>\n",
       "    </tr>\n",
       "    <tr>\n",
       "      <th>28</th>\n",
       "      <td>3</td>\n",
       "      <td>RESIDENCE</td>\n",
       "      <td>SEX OFFENSE</td>\n",
       "    </tr>\n",
       "    <tr>\n",
       "      <th>29</th>\n",
       "      <td>0</td>\n",
       "      <td>CHA APARTMENT</td>\n",
       "      <td>CRIMINAL DAMAGE</td>\n",
       "    </tr>\n",
       "    <tr>\n",
       "      <th>...</th>\n",
       "      <td>...</td>\n",
       "      <td>...</td>\n",
       "      <td>...</td>\n",
       "    </tr>\n",
       "    <tr>\n",
       "      <th>23147</th>\n",
       "      <td>8</td>\n",
       "      <td>AIRPORT PARKING LOT</td>\n",
       "      <td>CRIMINAL DAMAGE</td>\n",
       "    </tr>\n",
       "    <tr>\n",
       "      <th>23148</th>\n",
       "      <td>3</td>\n",
       "      <td>GOVERNMENT BUILDING/PROPERTY</td>\n",
       "      <td>BATTERY</td>\n",
       "    </tr>\n",
       "    <tr>\n",
       "      <th>23149</th>\n",
       "      <td>21</td>\n",
       "      <td>HOTEL/MOTEL</td>\n",
       "      <td>OFFENSE INVOLVING CHILDREN</td>\n",
       "    </tr>\n",
       "    <tr>\n",
       "      <th>23150</th>\n",
       "      <td>6</td>\n",
       "      <td>CHA HALLWAY/STAIRWELL/ELEVATOR</td>\n",
       "      <td>CRIMINAL TRESPASS</td>\n",
       "    </tr>\n",
       "    <tr>\n",
       "      <th>23151</th>\n",
       "      <td>15</td>\n",
       "      <td>OTHER</td>\n",
       "      <td>LIQUOR LAW VIOLATION</td>\n",
       "    </tr>\n",
       "    <tr>\n",
       "      <th>23152</th>\n",
       "      <td>6</td>\n",
       "      <td>SCHOOL, PRIVATE, GROUNDS</td>\n",
       "      <td>CRIMINAL DAMAGE</td>\n",
       "    </tr>\n",
       "    <tr>\n",
       "      <th>23153</th>\n",
       "      <td>20</td>\n",
       "      <td>ABANDONED BUILDING</td>\n",
       "      <td>OFFENSE INVOLVING CHILDREN</td>\n",
       "    </tr>\n",
       "    <tr>\n",
       "      <th>23154</th>\n",
       "      <td>20</td>\n",
       "      <td>AIRPORT TRANSPORTATION SYSTEM (ATS)</td>\n",
       "      <td>THEFT</td>\n",
       "    </tr>\n",
       "    <tr>\n",
       "      <th>23155</th>\n",
       "      <td>8</td>\n",
       "      <td>FEDERAL BUILDING</td>\n",
       "      <td>ASSAULT</td>\n",
       "    </tr>\n",
       "    <tr>\n",
       "      <th>23156</th>\n",
       "      <td>7</td>\n",
       "      <td>BRIDGE</td>\n",
       "      <td>ROBBERY</td>\n",
       "    </tr>\n",
       "    <tr>\n",
       "      <th>23157</th>\n",
       "      <td>14</td>\n",
       "      <td>CTA BUS</td>\n",
       "      <td>OFFENSE INVOLVING CHILDREN</td>\n",
       "    </tr>\n",
       "    <tr>\n",
       "      <th>23158</th>\n",
       "      <td>22</td>\n",
       "      <td>CTA BUS STOP</td>\n",
       "      <td>ASSAULT</td>\n",
       "    </tr>\n",
       "    <tr>\n",
       "      <th>23159</th>\n",
       "      <td>14</td>\n",
       "      <td>STREET</td>\n",
       "      <td>HUMAN TRAFFICKING</td>\n",
       "    </tr>\n",
       "    <tr>\n",
       "      <th>23160</th>\n",
       "      <td>13</td>\n",
       "      <td>AIRPORT BUILDING NON-TERMINAL - NON-SECURE AREA</td>\n",
       "      <td>OTHER OFFENSE</td>\n",
       "    </tr>\n",
       "    <tr>\n",
       "      <th>23161</th>\n",
       "      <td>3</td>\n",
       "      <td>BANK</td>\n",
       "      <td>CRIMINAL TRESPASS</td>\n",
       "    </tr>\n",
       "    <tr>\n",
       "      <th>23162</th>\n",
       "      <td>9</td>\n",
       "      <td>CHA PARKING LOT/GROUNDS</td>\n",
       "      <td>WEAPONS VIOLATION</td>\n",
       "    </tr>\n",
       "    <tr>\n",
       "      <th>23163</th>\n",
       "      <td>23</td>\n",
       "      <td>MOVIE HOUSE/THEATER</td>\n",
       "      <td>OTHER OFFENSE</td>\n",
       "    </tr>\n",
       "    <tr>\n",
       "      <th>23164</th>\n",
       "      <td>19</td>\n",
       "      <td>SAVINGS AND LOAN</td>\n",
       "      <td>CRIMINAL DAMAGE</td>\n",
       "    </tr>\n",
       "    <tr>\n",
       "      <th>23165</th>\n",
       "      <td>4</td>\n",
       "      <td>VACANT LOT</td>\n",
       "      <td>HOMICIDE</td>\n",
       "    </tr>\n",
       "    <tr>\n",
       "      <th>23166</th>\n",
       "      <td>16</td>\n",
       "      <td>HOUSE</td>\n",
       "      <td>HOMICIDE</td>\n",
       "    </tr>\n",
       "    <tr>\n",
       "      <th>23167</th>\n",
       "      <td>21</td>\n",
       "      <td>PARK PROPERTY</td>\n",
       "      <td>HOMICIDE</td>\n",
       "    </tr>\n",
       "    <tr>\n",
       "      <th>23168</th>\n",
       "      <td>23</td>\n",
       "      <td>CHA PARKING LOT</td>\n",
       "      <td>HOMICIDE</td>\n",
       "    </tr>\n",
       "    <tr>\n",
       "      <th>23169</th>\n",
       "      <td>21</td>\n",
       "      <td>COLLEGE/UNIVERSITY GROUNDS</td>\n",
       "      <td>DECEPTIVE PRACTICE</td>\n",
       "    </tr>\n",
       "    <tr>\n",
       "      <th>23170</th>\n",
       "      <td>22</td>\n",
       "      <td>RESTAURANT</td>\n",
       "      <td>INTIMIDATION</td>\n",
       "    </tr>\n",
       "    <tr>\n",
       "      <th>23171</th>\n",
       "      <td>23</td>\n",
       "      <td>OTHER RAILROAD PROP / TRAIN DEPOT</td>\n",
       "      <td>OFFENSE INVOLVING CHILDREN</td>\n",
       "    </tr>\n",
       "    <tr>\n",
       "      <th>23172</th>\n",
       "      <td>6</td>\n",
       "      <td>BARBERSHOP</td>\n",
       "      <td>ARSON</td>\n",
       "    </tr>\n",
       "    <tr>\n",
       "      <th>23173</th>\n",
       "      <td>14</td>\n",
       "      <td>CEMETARY</td>\n",
       "      <td>CRIMINAL TRESPASS</td>\n",
       "    </tr>\n",
       "    <tr>\n",
       "      <th>23174</th>\n",
       "      <td>17</td>\n",
       "      <td>BANK</td>\n",
       "      <td>BURGLARY</td>\n",
       "    </tr>\n",
       "    <tr>\n",
       "      <th>23175</th>\n",
       "      <td>9</td>\n",
       "      <td>GAS STATION</td>\n",
       "      <td>HOMICIDE</td>\n",
       "    </tr>\n",
       "    <tr>\n",
       "      <th>23176</th>\n",
       "      <td>10</td>\n",
       "      <td>BRIDGE</td>\n",
       "      <td>ROBBERY</td>\n",
       "    </tr>\n",
       "  </tbody>\n",
       "</table>\n",
       "<p>23177 rows × 3 columns</p>\n",
       "</div>"
      ],
      "text/plain": [
       "       hour                             location_description  \\\n",
       "0        14                                           STREET   \n",
       "1         9                          RESIDENCE PORCH/HALLWAY   \n",
       "2         8                                           STREET   \n",
       "3        15                                           STREET   \n",
       "4        20                                         SIDEWALK   \n",
       "5         3                                      GAS STATION   \n",
       "6        20                                 DEPARTMENT STORE   \n",
       "7         6                   PARKING LOT/GARAGE(NON.RESID.)   \n",
       "8        23                                        APARTMENT   \n",
       "9         1                                          TAXICAB   \n",
       "10        5                                CURRENCY EXCHANGE   \n",
       "11       17                     COMMERCIAL / BUSINESS OFFICE   \n",
       "12       21                          RESIDENCE PORCH/HALLWAY   \n",
       "13       15                                           STREET   \n",
       "14       11                                        CTA TRAIN   \n",
       "15       15                                           STREET   \n",
       "16       16                     COMMERCIAL / BUSINESS OFFICE   \n",
       "17       19                        HOSPITAL BUILDING/GROUNDS   \n",
       "18       15                                        RESIDENCE   \n",
       "19       18                     COMMERCIAL / BUSINESS OFFICE   \n",
       "20       15                                        APARTMENT   \n",
       "21       22                          CHA PARKING LOT/GROUNDS   \n",
       "22       10                         SCHOOL, PUBLIC, BUILDING   \n",
       "23        7                     COMMERCIAL / BUSINESS OFFICE   \n",
       "24        1                                    BAR OR TAVERN   \n",
       "25       22                        HOSPITAL BUILDING/GROUNDS   \n",
       "26       16                                    PARK PROPERTY   \n",
       "27       19                               ABANDONED BUILDING   \n",
       "28        3                                        RESIDENCE   \n",
       "29        0                                    CHA APARTMENT   \n",
       "...     ...                                              ...   \n",
       "23147     8                              AIRPORT PARKING LOT   \n",
       "23148     3                     GOVERNMENT BUILDING/PROPERTY   \n",
       "23149    21                                      HOTEL/MOTEL   \n",
       "23150     6                   CHA HALLWAY/STAIRWELL/ELEVATOR   \n",
       "23151    15                                            OTHER   \n",
       "23152     6                         SCHOOL, PRIVATE, GROUNDS   \n",
       "23153    20                               ABANDONED BUILDING   \n",
       "23154    20              AIRPORT TRANSPORTATION SYSTEM (ATS)   \n",
       "23155     8                                 FEDERAL BUILDING   \n",
       "23156     7                                           BRIDGE   \n",
       "23157    14                                          CTA BUS   \n",
       "23158    22                                     CTA BUS STOP   \n",
       "23159    14                                           STREET   \n",
       "23160    13  AIRPORT BUILDING NON-TERMINAL - NON-SECURE AREA   \n",
       "23161     3                                             BANK   \n",
       "23162     9                          CHA PARKING LOT/GROUNDS   \n",
       "23163    23                              MOVIE HOUSE/THEATER   \n",
       "23164    19                                 SAVINGS AND LOAN   \n",
       "23165     4                                       VACANT LOT   \n",
       "23166    16                                            HOUSE   \n",
       "23167    21                                    PARK PROPERTY   \n",
       "23168    23                                  CHA PARKING LOT   \n",
       "23169    21                       COLLEGE/UNIVERSITY GROUNDS   \n",
       "23170    22                                       RESTAURANT   \n",
       "23171    23                OTHER RAILROAD PROP / TRAIN DEPOT   \n",
       "23172     6                                       BARBERSHOP   \n",
       "23173    14                                         CEMETARY   \n",
       "23174    17                                             BANK   \n",
       "23175     9                                      GAS STATION   \n",
       "23176    10                                           BRIDGE   \n",
       "\n",
       "                     primary_type  \n",
       "0                 CRIMINAL DAMAGE  \n",
       "1                           THEFT  \n",
       "2                         BATTERY  \n",
       "3                         BATTERY  \n",
       "4            LIQUOR LAW VIOLATION  \n",
       "5                           THEFT  \n",
       "6                           THEFT  \n",
       "7                         BATTERY  \n",
       "8                   OTHER OFFENSE  \n",
       "9              DECEPTIVE PRACTICE  \n",
       "10             DECEPTIVE PRACTICE  \n",
       "11                          THEFT  \n",
       "12                CRIMINAL DAMAGE  \n",
       "13              CRIMINAL TRESPASS  \n",
       "14                        ROBBERY  \n",
       "15              WEAPONS VIOLATION  \n",
       "16                        BATTERY  \n",
       "17                        BATTERY  \n",
       "18         PUBLIC PEACE VIOLATION  \n",
       "19                       BURGLARY  \n",
       "20     OFFENSE INVOLVING CHILDREN  \n",
       "21                      NARCOTICS  \n",
       "22              CRIMINAL TRESPASS  \n",
       "23                          THEFT  \n",
       "24             DECEPTIVE PRACTICE  \n",
       "25                        ASSAULT  \n",
       "26           LIQUOR LAW VIOLATION  \n",
       "27                      NARCOTICS  \n",
       "28                    SEX OFFENSE  \n",
       "29                CRIMINAL DAMAGE  \n",
       "...                           ...  \n",
       "23147             CRIMINAL DAMAGE  \n",
       "23148                     BATTERY  \n",
       "23149  OFFENSE INVOLVING CHILDREN  \n",
       "23150           CRIMINAL TRESPASS  \n",
       "23151        LIQUOR LAW VIOLATION  \n",
       "23152             CRIMINAL DAMAGE  \n",
       "23153  OFFENSE INVOLVING CHILDREN  \n",
       "23154                       THEFT  \n",
       "23155                     ASSAULT  \n",
       "23156                     ROBBERY  \n",
       "23157  OFFENSE INVOLVING CHILDREN  \n",
       "23158                     ASSAULT  \n",
       "23159           HUMAN TRAFFICKING  \n",
       "23160               OTHER OFFENSE  \n",
       "23161           CRIMINAL TRESPASS  \n",
       "23162           WEAPONS VIOLATION  \n",
       "23163               OTHER OFFENSE  \n",
       "23164             CRIMINAL DAMAGE  \n",
       "23165                    HOMICIDE  \n",
       "23166                    HOMICIDE  \n",
       "23167                    HOMICIDE  \n",
       "23168                    HOMICIDE  \n",
       "23169          DECEPTIVE PRACTICE  \n",
       "23170                INTIMIDATION  \n",
       "23171  OFFENSE INVOLVING CHILDREN  \n",
       "23172                       ARSON  \n",
       "23173           CRIMINAL TRESPASS  \n",
       "23174                    BURGLARY  \n",
       "23175                    HOMICIDE  \n",
       "23176                     ROBBERY  \n",
       "\n",
       "[23177 rows x 3 columns]"
      ]
     },
     "execution_count": 39,
     "metadata": {},
     "output_type": "execute_result"
    }
   ],
   "source": [
    "location_hour = pd.DataFrame(df_hour.select('location_description', 'hour', 'primary_type').distinct().rdd.map(lambda l: l.asDict()).collect())\n",
    "location_hour"
   ]
  },
  {
   "cell_type": "code",
   "execution_count": 40,
   "metadata": {},
   "outputs": [],
   "source": [
    "#Being on the street and at home\n",
    "street_home_hour = location_hour.where((location_hour['location_description'] == 'STREET') | (location_hour['location_description'] == 'RESIDENCE')).dropna()"
   ]
  },
  {
   "cell_type": "code",
   "execution_count": 41,
   "metadata": {},
   "outputs": [],
   "source": [
    "#Being on the street and at home\n",
    "street_home_hour = location_hour.where((location_hour['location_description'] == 'STREET') | (location_hour['location_description'] == 'RESIDENCE')).dropna()\n",
    "\n",
    "\n",
    "#a data frame with location descriptions and counts of recorded crimes, and hours...\n",
    "street_home_hour_pddf = street_home_hour\n",
    "street_home_hour_pddf = street_home_hour_pddf.sort_values(by='hour')\n"
   ]
  },
  {
   "cell_type": "code",
   "execution_count": null,
   "metadata": {},
   "outputs": [],
   "source": []
  },
  {
   "cell_type": "code",
   "execution_count": 42,
   "metadata": {},
   "outputs": [],
   "source": [
    "domestic_hour = pd.DataFrame(df_hour.groupBy(['domestic', 'hour']).count().orderBy('hour')\\\n",
    "                             .rdd.map(lambda row: row.asDict()).collect())\n",
    "\n",
    "domestic_hour.head()"
   ]
  },
  {
   "cell_type": "code",
   "execution_count": 44,
   "metadata": {},
   "outputs": [],
   "source": [
    "#filter domestic and non-domestic crimes \n",
    "\n",
    "dom = domestic_hour[domestic_hour['domestic'] == True]['count']\n",
    "non_dom = domestic_hour[domestic_hour['domestic'] == False]['count']\n",
    "\n",
    "either_dom = domestic_hour.groupby(by=['hour']).sum()['count']\n",
    "\n",
    "dom_keys = domestic_hour[domestic_hour['domestic'] == False]['hour']"
   ]
  },
  {
   "cell_type": "code",
   "execution_count": 45,
   "metadata": {},
   "outputs": [],
   "source": [
    "#Let's split our date data \n",
    "#=> day of the week, day of the month\n",
    "df_dates = df_hour.withColumn('week_day', dayofweek(df_hour['date_time']))\\\n",
    "                 .withColumn('year_month', month(df_hour['date_time']))\\\n",
    "                 .withColumn('month_day', dayofmonth(df_hour['date_time']))\\\n",
    "                 .withColumn('date_number', datediff(df['date_time'], to_date(lit('2012-01-01'), format='yyyy-MM-dd')))\\\n",
    "                 .cache()"
   ]
  },
  {
   "cell_type": "code",
   "execution_count": 46,
   "metadata": {},
   "outputs": [
    {
     "name": "stdout",
     "output_type": "stream",
     "text": [
      "+----------------------+----------+----+--------+----------+----------+---------+-----------+\n",
      "|date                  |month     |hour|week_day|year      |year_month|month_day|date_number|\n",
      "+----------------------+----------+----+--------+----------+----------+---------+-----------+\n",
      "|05/03/2016 11:40:00 PM|2016-05-01|23  |3       |2016-01-01|5         |3        |5601       |\n",
      "|05/03/2016 09:40:00 PM|2016-05-01|21  |3       |2016-01-01|5         |3        |5601       |\n",
      "|05/03/2016 11:31:00 PM|2016-05-01|23  |3       |2016-01-01|5         |3        |5601       |\n",
      "|05/03/2016 10:10:00 PM|2016-05-01|22  |3       |2016-01-01|5         |3        |5601       |\n",
      "|05/03/2016 10:00:00 PM|2016-05-01|22  |3       |2016-01-01|5         |3        |5601       |\n",
      "|05/03/2016 10:35:00 PM|2016-05-01|22  |3       |2016-01-01|5         |3        |5601       |\n",
      "|05/03/2016 10:30:00 PM|2016-05-01|22  |3       |2016-01-01|5         |3        |5601       |\n",
      "|05/03/2016 09:30:00 PM|2016-05-01|21  |3       |2016-01-01|5         |3        |5601       |\n",
      "|05/03/2016 04:00:00 PM|2016-05-01|16  |3       |2016-01-01|5         |3        |5601       |\n",
      "|05/03/2016 10:30:00 PM|2016-05-01|22  |3       |2016-01-01|5         |3        |5601       |\n",
      "|05/03/2016 09:44:00 PM|2016-05-01|21  |3       |2016-01-01|5         |3        |5601       |\n",
      "|05/03/2016 11:11:00 PM|2016-05-01|23  |3       |2016-01-01|5         |3        |5601       |\n",
      "|05/03/2016 05:30:00 PM|2016-05-01|17  |3       |2016-01-01|5         |3        |5601       |\n",
      "|05/03/2016 09:00:00 AM|2016-05-01|9   |3       |2016-01-01|5         |3        |5601       |\n",
      "|05/03/2016 10:08:00 PM|2016-05-01|22  |3       |2016-01-01|5         |3        |5601       |\n",
      "|05/03/2016 04:00:00 PM|2016-05-01|16  |3       |2016-01-01|5         |3        |5601       |\n",
      "|05/03/2016 09:45:00 PM|2016-05-01|21  |3       |2016-01-01|5         |3        |5601       |\n",
      "|05/03/2016 10:00:00 PM|2016-05-01|22  |3       |2016-01-01|5         |3        |5601       |\n",
      "|05/03/2016 08:00:00 PM|2016-05-01|20  |3       |2016-01-01|5         |3        |5601       |\n",
      "|05/03/2016 11:00:00 PM|2016-05-01|23  |3       |2016-01-01|5         |3        |5601       |\n",
      "+----------------------+----------+----+--------+----------+----------+---------+-----------+\n",
      "only showing top 20 rows\n",
      "\n"
     ]
    }
   ],
   "source": [
    "df_dates.select(['date', 'month', 'hour', 'week_day', 'year', 'year_month', 'month_day', 'date_number']).show(20, truncate=False)"
   ]
  },
  {
   "cell_type": "code",
   "execution_count": 47,
   "metadata": {},
   "outputs": [],
   "source": [
    "week_day_crime_counts = df_dates.groupBy('week_day').count()\n",
    "week_day_crime_counts_pddf = pd.DataFrame(week_day_crime_counts.orderBy('week_day').rdd.map(lambda e: e.asDict()).collect())"
   ]
  },
  {
   "cell_type": "code",
   "execution_count": 48,
   "metadata": {},
   "outputs": [],
   "source": [
    "year_month_crime_counts = df_dates.groupBy('year_month').count()\n",
    "year_month_crime_counts_pddf = pd.DataFrame(year_month_crime_counts.orderBy('year_month').rdd.map(lambda e: e.asDict()).collect())"
   ]
  },
  {
   "cell_type": "code",
   "execution_count": 49,
   "metadata": {},
   "outputs": [],
   "source": [
    "month_day_crime_counts = df_dates.groupBy('month_day').count()\n",
    "month_day_crime_counts_pddf = pd.DataFrame(month_day_crime_counts.orderBy('month_day').rdd.map(lambda e: e.asDict()).collect())"
   ]
  },
  {
   "cell_type": "code",
   "execution_count": 50,
   "metadata": {},
   "outputs": [],
   "source": [
    "month_day_crime_counts_pddf = month_day_crime_counts_pddf.sort_values(by='month_day', ascending=True)\n",
    "#month_day_crime_counts_pddf['month_day']"
   ]
  },
  {
   "cell_type": "code",
   "execution_count": 52,
   "metadata": {},
   "outputs": [
    {
     "data": {
      "text/plain": [
       "<matplotlib.legend.Legend at 0x7f3d02eb8f50>"
      ]
     },
     "execution_count": 52,
     "metadata": {},
     "output_type": "execute_result"
    },
    {
     "data": {
      "image/png": "[encoded data removed]",
      "text/plain": [
       "<Figure size 432x288 with 1 Axes>"
      ]
     },
     "metadata": {},
     "output_type": "display_data"
    }
   ],
   "source": [
    "# Crimes count over the month days\n",
    "\n",
    "fg, ax = plt.subplots()\n",
    "ax.plot(month_day_crime_counts_pddf['month_day'], month_day_crime_counts_pddf['count'], label='Crimes over the month')\n",
    "\n",
    "ax.grid(b=True, which='both')\n",
    "ax.legend()"
   ]
  },
  {
   "cell_type": "code",
   "execution_count": 53,
   "metadata": {},
   "outputs": [],
   "source": [
    "#Let's introduce community area data \n",
    "\n",
    "df_dates_community_areas = df_dates.na.drop(subset=['community_area']).groupBy('community_area').count()"
   ]
  },
  {
   "cell_type": "code",
   "execution_count": 54,
   "metadata": {},
   "outputs": [
    {
     "name": "stdout",
     "output_type": "stream",
     "text": [
      "+--------------+-----+\n",
      "|community_area|count|\n",
      "+--------------+-----+\n",
      "|          25.0|92670|\n",
      "|           8.0|48737|\n",
      "|          43.0|47725|\n",
      "|          23.0|45941|\n",
      "|          29.0|44812|\n",
      "|          28.0|42234|\n",
      "|          71.0|40620|\n",
      "|          67.0|40153|\n",
      "|          24.0|39672|\n",
      "|          32.0|38509|\n",
      "+--------------+-----+\n",
      "only showing top 10 rows\n",
      "\n"
     ]
    }
   ],
   "source": [
    "#Count crimes per community area \n",
    "\n",
    "df_dates_community_areas.orderBy('count', ascending=False).show(10)"
   ]
  },
  {
   "cell_type": "code",
   "execution_count": 55,
   "metadata": {},
   "outputs": [],
   "source": [
    "## Top crime types & top crime-affected areas\n",
    "top_crime_types = df_dates.select('primary_type').groupBy('primary_type').count().rdd.map(lambda row: row.asDict()).takeOrdered(10, key=lambda l: 1/l['count'])\n",
    "top_busy_areas =  df_dates_community_areas.rdd.map(lambda row: row.asDict()).takeOrdered(10, key=lambda l: 1/l['count'])"
   ]
  },
  {
   "cell_type": "code",
   "execution_count": 56,
   "metadata": {},
   "outputs": [],
   "source": [
    "top_crime_types_lst = [dc['primary_type'] for dc in top_crime_types]\n",
    "top_busy_areas_lst = [dc['community_area'] for dc in top_busy_areas]"
   ]
  },
  {
   "cell_type": "code",
   "execution_count": 57,
   "metadata": {},
   "outputs": [
    {
     "data": {
      "text/plain": [
       "[u'OFFENSE INVOLVING CHILDREN',\n",
       " u'STALKING',\n",
       " u'PUBLIC PEACE VIOLATION',\n",
       " u'OBSCENITY',\n",
       " u'NON-CRIMINAL (SUBJECT SPECIFIED)',\n",
       " u'ARSON',\n",
       " u'GAMBLING',\n",
       " u'CRIMINAL TRESPASS',\n",
       " u'ASSAULT',\n",
       " u'NON - CRIMINAL']"
      ]
     },
     "execution_count": 57,
     "metadata": {},
     "output_type": "execute_result"
    }
   ],
   "source": [
    "top_crime_types_lst"
   ]
  },
  {
   "cell_type": "code",
   "execution_count": 58,
   "metadata": {},
   "outputs": [
    {
     "data": {
      "text/plain": [
       "[67.0, 8.0, 70.0, 69.0, 7.0, 49.0, 29.0, 75.0, 64.0, 47.0]"
      ]
     },
     "execution_count": 58,
     "metadata": {},
     "output_type": "execute_result"
    }
   ],
   "source": [
    "top_busy_areas_lst"
   ]
  },
  {
   "cell_type": "code",
   "execution_count": 59,
   "metadata": {},
   "outputs": [
    {
     "name": "stdout",
     "output_type": "stream",
     "text": [
      "instr('67.0 8.0 70.0 69.0 7.0 49.0 29.0 75.0 64.0 47.0', community_area) > 0\n"
     ]
    }
   ],
   "source": [
    "#q1 = \"instr('\" + ''.join(str(top_busy_areas_lst)) + \"', community_area) > 0\"\n",
    "#q2 = \"instr('\" + ''.join(str(top_crime_types_lst)) + \"', primary_type) > 0\"\n",
    "\n",
    "#q1 = q1.replace('[', '').replace(']', '').replace(',', '')\n",
    "#q2 = q2.replace('[', '').replace(']', '').replace(',', '')\n",
    "#print(q1)\n",
    "#print(q1)\n",
    "\n",
    "q1 = \"instr('\" + ' '.join(map(str, top_busy_areas_lst)) + \"', community_area) > 0\"\n",
    "q2 = \"instr('\" + ' '.join(map(str, top_crime_types_lst)) + \"', primary_type) > 0\"\n",
    "print(q1)"
   ]
  },
  {
   "cell_type": "code",
   "execution_count": 60,
   "metadata": {},
   "outputs": [],
   "source": [
    "## Construct a data frame filtered on these top community areas and top crime types:\n",
    "df_dates_tops = df_dates.filter(q1).filter(q2)"
   ]
  },
  {
   "cell_type": "code",
   "execution_count": 61,
   "metadata": {},
   "outputs": [
    {
     "data": {
      "text/plain": [
       "29777"
      ]
     },
     "execution_count": 61,
     "metadata": {},
     "output_type": "execute_result"
    }
   ],
   "source": [
    "df_dates_tops.count()"
   ]
  },
  {
   "cell_type": "code",
   "execution_count": 62,
   "metadata": {},
   "outputs": [],
   "source": [
    "tops_of_tops = df_dates_tops.groupBy(['primary_type', 'community_area']).count().orderBy(['primary_type', 'count', 'community_area'], ascending=[True, False, True]).cache()"
   ]
  },
  {
   "cell_type": "code",
   "execution_count": 63,
   "metadata": {},
   "outputs": [
    {
     "name": "stdout",
     "output_type": "stream",
     "text": [
      "+------------+--------------+-----+\n",
      "|primary_type|community_area|count|\n",
      "+------------+--------------+-----+\n",
      "|       ARSON|          67.0|   90|\n",
      "|       ARSON|          49.0|   76|\n",
      "|       ARSON|          29.0|   73|\n",
      "|       ARSON|          69.0|   49|\n",
      "|       ARSON|          70.0|   27|\n",
      "|       ARSON|           8.0|   18|\n",
      "|       ARSON|           5.0|   13|\n",
      "|       ARSON|          75.0|   13|\n",
      "|       ARSON|           7.0|   12|\n",
      "|       ARSON|          64.0|   10|\n",
      "|       ARSON|          47.0|    8|\n",
      "|       ARSON|           4.0|    3|\n",
      "|     ASSAULT|          29.0| 2933|\n",
      "|     ASSAULT|          49.0| 2931|\n",
      "|     ASSAULT|          67.0| 2903|\n",
      "|     ASSAULT|          69.0| 2717|\n",
      "|     ASSAULT|           8.0| 1642|\n",
      "|     ASSAULT|          70.0|  880|\n",
      "|     ASSAULT|          75.0|  812|\n",
      "|     ASSAULT|           7.0|  542|\n",
      "+------------+--------------+-----+\n",
      "only showing top 20 rows\n",
      "\n"
     ]
    }
   ],
   "source": [
    "tops_of_tops.show(20)"
   ]
  },
  {
   "cell_type": "code",
   "execution_count": 64,
   "metadata": {},
   "outputs": [],
   "source": [
    "## We add some other data [grabbed from Kaggle]\n",
    "## Area names and their Codes\n",
    "\n",
    "with open(\"../datasets/areas.csv\",\"r\") as myfile:\n",
    "    area_names=myfile.read()\n",
    "          "
   ]
  },
  {
   "cell_type": "code",
   "execution_count": 65,
   "metadata": {},
   "outputs": [],
   "source": [
    "code_pairs = [[float(p[0]), p[1]] for p in [pair.strip().split('\\t') for pair in area_names.strip().split('\\n')]]"
   ]
  },
  {
   "cell_type": "code",
   "execution_count": 66,
   "metadata": {},
   "outputs": [
    {
     "data": {
      "text/plain": [
       "[[1.0, 'Rogers Park'],\n",
       " [40.0, 'Washington Park'],\n",
       " [2.0, 'West Ridge'],\n",
       " [41.0, 'Hyde Park'],\n",
       " [3.0, 'Uptown']]"
      ]
     },
     "execution_count": 66,
     "metadata": {},
     "output_type": "execute_result"
    }
   ],
   "source": [
    "code_pairs[:5]"
   ]
  },
  {
   "cell_type": "code",
   "execution_count": 67,
   "metadata": {},
   "outputs": [],
   "source": [
    "community_area_counts = pd.DataFrame(df_dates_community_areas.rdd.map(lambda row: row.asDict()).collect())"
   ]
  },
  {
   "cell_type": "code",
   "execution_count": 68,
   "metadata": {},
   "outputs": [
    {
     "data": {
      "text/plain": [
       "{1.0: 'Rogers Park',\n",
       " 2.0: 'West Ridge',\n",
       " 3.0: 'Uptown',\n",
       " 4.0: 'Lincoln Square',\n",
       " 5.0: 'North Center',\n",
       " 6.0: 'Lakeview',\n",
       " 7.0: 'Lincoln Park',\n",
       " 8.0: 'Near North Side',\n",
       " 40.0: 'Washington Park',\n",
       " 41.0: 'Hyde Park',\n",
       " 42.0: 'Woodlawn',\n",
       " 43.0: 'South Shore',\n",
       " 44.0: 'Chatham',\n",
       " 45.0: 'Avalon Park',\n",
       " 46.0: 'South Chicago'}"
      ]
     },
     "execution_count": 68,
     "metadata": {},
     "output_type": "execute_result"
    }
   ],
   "source": [
    "# Create a dictionary of area code to names\n",
    "area_name_dic = {float(k[0]):k[1] for k in code_pairs}\n",
    "area_name_dic"
   ]
  },
  {
   "cell_type": "code",
   "execution_count": 69,
   "metadata": {},
   "outputs": [
    {
     "data": {
      "text/html": [
       "<div>\n",
       "<style scoped>\n",
       "    .dataframe tbody tr th:only-of-type {\n",
       "        vertical-align: middle;\n",
       "    }\n",
       "\n",
       "    .dataframe tbody tr th {\n",
       "        vertical-align: top;\n",
       "    }\n",
       "\n",
       "    .dataframe thead th {\n",
       "        text-align: right;\n",
       "    }\n",
       "</style>\n",
       "<table border=\"1\" class=\"dataframe\">\n",
       "  <thead>\n",
       "    <tr style=\"text-align: right;\">\n",
       "      <th></th>\n",
       "      <th>community_area</th>\n",
       "      <th>count</th>\n",
       "      <th>community_area_name</th>\n",
       "    </tr>\n",
       "  </thead>\n",
       "  <tbody>\n",
       "    <tr>\n",
       "      <th>4</th>\n",
       "      <td>0.0</td>\n",
       "      <td>1</td>\n",
       "      <td>chic_area_0.0</td>\n",
       "    </tr>\n",
       "    <tr>\n",
       "      <th>71</th>\n",
       "      <td>9.0</td>\n",
       "      <td>1385</td>\n",
       "      <td>chic_area_9.0</td>\n",
       "    </tr>\n",
       "    <tr>\n",
       "      <th>10</th>\n",
       "      <td>47.0</td>\n",
       "      <td>2144</td>\n",
       "      <td>chic_area_47.0</td>\n",
       "    </tr>\n",
       "    <tr>\n",
       "      <th>74</th>\n",
       "      <td>12.0</td>\n",
       "      <td>2454</td>\n",
       "      <td>chic_area_12.0</td>\n",
       "    </tr>\n",
       "    <tr>\n",
       "      <th>69</th>\n",
       "      <td>55.0</td>\n",
       "      <td>3108</td>\n",
       "      <td>chic_area_55.0</td>\n",
       "    </tr>\n",
       "  </tbody>\n",
       "</table>\n",
       "</div>"
      ],
      "text/plain": [
       "    community_area  count community_area_name\n",
       "4              0.0      1       chic_area_0.0\n",
       "71             9.0   1385       chic_area_9.0\n",
       "10            47.0   2144      chic_area_47.0\n",
       "74            12.0   2454      chic_area_12.0\n",
       "69            55.0   3108      chic_area_55.0"
      ]
     },
     "execution_count": 69,
     "metadata": {},
     "output_type": "execute_result"
    }
   ],
   "source": [
    "community_area_counts['community_area_name'] = community_area_counts['community_area'].apply(lambda area: area_name_dic.get(float(area),  'chic_area_%s'%area))\n",
    "\n",
    "community_area_counts = community_area_counts.sort_values(by='count')\n",
    "community_area_counts.head(5)"
   ]
  },
  {
   "cell_type": "code",
   "execution_count": 70,
   "metadata": {},
   "outputs": [],
   "source": [
    "code_pairs_df = spark.createDataFrame(code_pairs, ['community_area', 'area_name'])"
   ]
  },
  {
   "cell_type": "code",
   "execution_count": 71,
   "metadata": {},
   "outputs": [],
   "source": [
    "named_tops_of_tops = code_pairs_df.join(tops_of_tops, on='community_area', how='right')"
   ]
  },
  {
   "cell_type": "code",
   "execution_count": 72,
   "metadata": {},
   "outputs": [
    {
     "name": "stdout",
     "output_type": "stream",
     "text": [
      "+--------------+---------------+--------------------+-----+\n",
      "|community_area|      area_name|        primary_type|count|\n",
      "+--------------+---------------+--------------------+-----+\n",
      "|           8.0|Near North Side|               ARSON|   18|\n",
      "|           8.0|Near North Side|             ASSAULT| 1642|\n",
      "|           8.0|Near North Side|   CRIMINAL TRESPASS| 2044|\n",
      "|           8.0|Near North Side|            GAMBLING|   11|\n",
      "|           8.0|Near North Side|      NON - CRIMINAL|    1|\n",
      "|           8.0|Near North Side|        NON-CRIMINAL|   10|\n",
      "|           8.0|Near North Side|           OBSCENITY|    2|\n",
      "|           8.0|Near North Side|OFFENSE INVOLVING...|  120|\n",
      "|           8.0|Near North Side|PUBLIC PEACE VIOL...|  313|\n",
      "|           8.0|Near North Side|            STALKING|   29|\n",
      "+--------------+---------------+--------------------+-----+\n",
      "only showing top 10 rows\n",
      "\n"
     ]
    }
   ],
   "source": [
    "named_tops_of_tops.show(10)"
   ]
  },
  {
   "cell_type": "code",
   "execution_count": 73,
   "metadata": {
    "scrolled": true
   },
   "outputs": [
    {
     "data": {
      "text/html": [
       "<div>\n",
       "<style scoped>\n",
       "    .dataframe tbody tr th:only-of-type {\n",
       "        vertical-align: middle;\n",
       "    }\n",
       "\n",
       "    .dataframe tbody tr th {\n",
       "        vertical-align: top;\n",
       "    }\n",
       "\n",
       "    .dataframe thead th {\n",
       "        text-align: right;\n",
       "    }\n",
       "</style>\n",
       "<table border=\"1\" class=\"dataframe\">\n",
       "  <thead>\n",
       "    <tr style=\"text-align: right;\">\n",
       "      <th></th>\n",
       "      <th>area_name</th>\n",
       "      <th>community_area</th>\n",
       "      <th>count</th>\n",
       "      <th>primary_type</th>\n",
       "    </tr>\n",
       "  </thead>\n",
       "  <tbody>\n",
       "    <tr>\n",
       "      <th>0</th>\n",
       "      <td>Near North Side</td>\n",
       "      <td>8.0</td>\n",
       "      <td>18</td>\n",
       "      <td>ARSON</td>\n",
       "    </tr>\n",
       "    <tr>\n",
       "      <th>1</th>\n",
       "      <td>Near North Side</td>\n",
       "      <td>8.0</td>\n",
       "      <td>1642</td>\n",
       "      <td>ASSAULT</td>\n",
       "    </tr>\n",
       "    <tr>\n",
       "      <th>2</th>\n",
       "      <td>Near North Side</td>\n",
       "      <td>8.0</td>\n",
       "      <td>2044</td>\n",
       "      <td>CRIMINAL TRESPASS</td>\n",
       "    </tr>\n",
       "    <tr>\n",
       "      <th>3</th>\n",
       "      <td>Near North Side</td>\n",
       "      <td>8.0</td>\n",
       "      <td>11</td>\n",
       "      <td>GAMBLING</td>\n",
       "    </tr>\n",
       "    <tr>\n",
       "      <th>4</th>\n",
       "      <td>Near North Side</td>\n",
       "      <td>8.0</td>\n",
       "      <td>1</td>\n",
       "      <td>NON - CRIMINAL</td>\n",
       "    </tr>\n",
       "    <tr>\n",
       "      <th>5</th>\n",
       "      <td>Near North Side</td>\n",
       "      <td>8.0</td>\n",
       "      <td>10</td>\n",
       "      <td>NON-CRIMINAL</td>\n",
       "    </tr>\n",
       "    <tr>\n",
       "      <th>6</th>\n",
       "      <td>Near North Side</td>\n",
       "      <td>8.0</td>\n",
       "      <td>2</td>\n",
       "      <td>OBSCENITY</td>\n",
       "    </tr>\n",
       "    <tr>\n",
       "      <th>7</th>\n",
       "      <td>Near North Side</td>\n",
       "      <td>8.0</td>\n",
       "      <td>120</td>\n",
       "      <td>OFFENSE INVOLVING CHILDREN</td>\n",
       "    </tr>\n",
       "    <tr>\n",
       "      <th>8</th>\n",
       "      <td>Near North Side</td>\n",
       "      <td>8.0</td>\n",
       "      <td>313</td>\n",
       "      <td>PUBLIC PEACE VIOLATION</td>\n",
       "    </tr>\n",
       "    <tr>\n",
       "      <th>9</th>\n",
       "      <td>Near North Side</td>\n",
       "      <td>8.0</td>\n",
       "      <td>29</td>\n",
       "      <td>STALKING</td>\n",
       "    </tr>\n",
       "    <tr>\n",
       "      <th>10</th>\n",
       "      <td>None</td>\n",
       "      <td>67.0</td>\n",
       "      <td>90</td>\n",
       "      <td>ARSON</td>\n",
       "    </tr>\n",
       "    <tr>\n",
       "      <th>11</th>\n",
       "      <td>None</td>\n",
       "      <td>67.0</td>\n",
       "      <td>2903</td>\n",
       "      <td>ASSAULT</td>\n",
       "    </tr>\n",
       "    <tr>\n",
       "      <th>12</th>\n",
       "      <td>None</td>\n",
       "      <td>67.0</td>\n",
       "      <td>979</td>\n",
       "      <td>CRIMINAL TRESPASS</td>\n",
       "    </tr>\n",
       "    <tr>\n",
       "      <th>13</th>\n",
       "      <td>None</td>\n",
       "      <td>67.0</td>\n",
       "      <td>194</td>\n",
       "      <td>GAMBLING</td>\n",
       "    </tr>\n",
       "    <tr>\n",
       "      <th>14</th>\n",
       "      <td>None</td>\n",
       "      <td>67.0</td>\n",
       "      <td>4</td>\n",
       "      <td>OBSCENITY</td>\n",
       "    </tr>\n",
       "    <tr>\n",
       "      <th>15</th>\n",
       "      <td>None</td>\n",
       "      <td>67.0</td>\n",
       "      <td>279</td>\n",
       "      <td>OFFENSE INVOLVING CHILDREN</td>\n",
       "    </tr>\n",
       "    <tr>\n",
       "      <th>16</th>\n",
       "      <td>None</td>\n",
       "      <td>67.0</td>\n",
       "      <td>479</td>\n",
       "      <td>PUBLIC PEACE VIOLATION</td>\n",
       "    </tr>\n",
       "    <tr>\n",
       "      <th>17</th>\n",
       "      <td>None</td>\n",
       "      <td>67.0</td>\n",
       "      <td>16</td>\n",
       "      <td>STALKING</td>\n",
       "    </tr>\n",
       "    <tr>\n",
       "      <th>18</th>\n",
       "      <td>None</td>\n",
       "      <td>70.0</td>\n",
       "      <td>27</td>\n",
       "      <td>ARSON</td>\n",
       "    </tr>\n",
       "    <tr>\n",
       "      <th>19</th>\n",
       "      <td>None</td>\n",
       "      <td>70.0</td>\n",
       "      <td>880</td>\n",
       "      <td>ASSAULT</td>\n",
       "    </tr>\n",
       "    <tr>\n",
       "      <th>20</th>\n",
       "      <td>None</td>\n",
       "      <td>70.0</td>\n",
       "      <td>272</td>\n",
       "      <td>CRIMINAL TRESPASS</td>\n",
       "    </tr>\n",
       "    <tr>\n",
       "      <th>21</th>\n",
       "      <td>None</td>\n",
       "      <td>70.0</td>\n",
       "      <td>7</td>\n",
       "      <td>GAMBLING</td>\n",
       "    </tr>\n",
       "    <tr>\n",
       "      <th>22</th>\n",
       "      <td>None</td>\n",
       "      <td>70.0</td>\n",
       "      <td>3</td>\n",
       "      <td>NON - CRIMINAL</td>\n",
       "    </tr>\n",
       "    <tr>\n",
       "      <th>23</th>\n",
       "      <td>None</td>\n",
       "      <td>70.0</td>\n",
       "      <td>4</td>\n",
       "      <td>OBSCENITY</td>\n",
       "    </tr>\n",
       "    <tr>\n",
       "      <th>24</th>\n",
       "      <td>None</td>\n",
       "      <td>70.0</td>\n",
       "      <td>107</td>\n",
       "      <td>OFFENSE INVOLVING CHILDREN</td>\n",
       "    </tr>\n",
       "    <tr>\n",
       "      <th>25</th>\n",
       "      <td>None</td>\n",
       "      <td>70.0</td>\n",
       "      <td>118</td>\n",
       "      <td>PUBLIC PEACE VIOLATION</td>\n",
       "    </tr>\n",
       "    <tr>\n",
       "      <th>26</th>\n",
       "      <td>None</td>\n",
       "      <td>70.0</td>\n",
       "      <td>10</td>\n",
       "      <td>STALKING</td>\n",
       "    </tr>\n",
       "    <tr>\n",
       "      <th>27</th>\n",
       "      <td>None</td>\n",
       "      <td>69.0</td>\n",
       "      <td>49</td>\n",
       "      <td>ARSON</td>\n",
       "    </tr>\n",
       "    <tr>\n",
       "      <th>28</th>\n",
       "      <td>None</td>\n",
       "      <td>69.0</td>\n",
       "      <td>2717</td>\n",
       "      <td>ASSAULT</td>\n",
       "    </tr>\n",
       "    <tr>\n",
       "      <th>29</th>\n",
       "      <td>None</td>\n",
       "      <td>69.0</td>\n",
       "      <td>1129</td>\n",
       "      <td>CRIMINAL TRESPASS</td>\n",
       "    </tr>\n",
       "    <tr>\n",
       "      <th>...</th>\n",
       "      <td>...</td>\n",
       "      <td>...</td>\n",
       "      <td>...</td>\n",
       "      <td>...</td>\n",
       "    </tr>\n",
       "    <tr>\n",
       "      <th>78</th>\n",
       "      <td>None</td>\n",
       "      <td>75.0</td>\n",
       "      <td>87</td>\n",
       "      <td>PUBLIC PEACE VIOLATION</td>\n",
       "    </tr>\n",
       "    <tr>\n",
       "      <th>79</th>\n",
       "      <td>None</td>\n",
       "      <td>75.0</td>\n",
       "      <td>3</td>\n",
       "      <td>STALKING</td>\n",
       "    </tr>\n",
       "    <tr>\n",
       "      <th>80</th>\n",
       "      <td>None</td>\n",
       "      <td>47.0</td>\n",
       "      <td>8</td>\n",
       "      <td>ARSON</td>\n",
       "    </tr>\n",
       "    <tr>\n",
       "      <th>81</th>\n",
       "      <td>None</td>\n",
       "      <td>47.0</td>\n",
       "      <td>165</td>\n",
       "      <td>ASSAULT</td>\n",
       "    </tr>\n",
       "    <tr>\n",
       "      <th>82</th>\n",
       "      <td>None</td>\n",
       "      <td>47.0</td>\n",
       "      <td>30</td>\n",
       "      <td>CRIMINAL TRESPASS</td>\n",
       "    </tr>\n",
       "    <tr>\n",
       "      <th>83</th>\n",
       "      <td>None</td>\n",
       "      <td>47.0</td>\n",
       "      <td>16</td>\n",
       "      <td>GAMBLING</td>\n",
       "    </tr>\n",
       "    <tr>\n",
       "      <th>84</th>\n",
       "      <td>None</td>\n",
       "      <td>47.0</td>\n",
       "      <td>18</td>\n",
       "      <td>OFFENSE INVOLVING CHILDREN</td>\n",
       "    </tr>\n",
       "    <tr>\n",
       "      <th>85</th>\n",
       "      <td>None</td>\n",
       "      <td>47.0</td>\n",
       "      <td>20</td>\n",
       "      <td>PUBLIC PEACE VIOLATION</td>\n",
       "    </tr>\n",
       "    <tr>\n",
       "      <th>86</th>\n",
       "      <td>None</td>\n",
       "      <td>47.0</td>\n",
       "      <td>1</td>\n",
       "      <td>STALKING</td>\n",
       "    </tr>\n",
       "    <tr>\n",
       "      <th>87</th>\n",
       "      <td>Lincoln Square</td>\n",
       "      <td>4.0</td>\n",
       "      <td>3</td>\n",
       "      <td>ARSON</td>\n",
       "    </tr>\n",
       "    <tr>\n",
       "      <th>88</th>\n",
       "      <td>Lincoln Square</td>\n",
       "      <td>4.0</td>\n",
       "      <td>512</td>\n",
       "      <td>ASSAULT</td>\n",
       "    </tr>\n",
       "    <tr>\n",
       "      <th>89</th>\n",
       "      <td>Lincoln Square</td>\n",
       "      <td>4.0</td>\n",
       "      <td>245</td>\n",
       "      <td>CRIMINAL TRESPASS</td>\n",
       "    </tr>\n",
       "    <tr>\n",
       "      <th>90</th>\n",
       "      <td>Lincoln Square</td>\n",
       "      <td>4.0</td>\n",
       "      <td>6</td>\n",
       "      <td>GAMBLING</td>\n",
       "    </tr>\n",
       "    <tr>\n",
       "      <th>91</th>\n",
       "      <td>Lincoln Square</td>\n",
       "      <td>4.0</td>\n",
       "      <td>2</td>\n",
       "      <td>NON-CRIMINAL</td>\n",
       "    </tr>\n",
       "    <tr>\n",
       "      <th>92</th>\n",
       "      <td>Lincoln Square</td>\n",
       "      <td>4.0</td>\n",
       "      <td>1</td>\n",
       "      <td>OBSCENITY</td>\n",
       "    </tr>\n",
       "    <tr>\n",
       "      <th>93</th>\n",
       "      <td>Lincoln Square</td>\n",
       "      <td>4.0</td>\n",
       "      <td>73</td>\n",
       "      <td>OFFENSE INVOLVING CHILDREN</td>\n",
       "    </tr>\n",
       "    <tr>\n",
       "      <th>94</th>\n",
       "      <td>Lincoln Square</td>\n",
       "      <td>4.0</td>\n",
       "      <td>50</td>\n",
       "      <td>PUBLIC PEACE VIOLATION</td>\n",
       "    </tr>\n",
       "    <tr>\n",
       "      <th>95</th>\n",
       "      <td>Lincoln Square</td>\n",
       "      <td>4.0</td>\n",
       "      <td>5</td>\n",
       "      <td>STALKING</td>\n",
       "    </tr>\n",
       "    <tr>\n",
       "      <th>96</th>\n",
       "      <td>North Center</td>\n",
       "      <td>5.0</td>\n",
       "      <td>13</td>\n",
       "      <td>ARSON</td>\n",
       "    </tr>\n",
       "    <tr>\n",
       "      <th>97</th>\n",
       "      <td>North Center</td>\n",
       "      <td>5.0</td>\n",
       "      <td>285</td>\n",
       "      <td>ASSAULT</td>\n",
       "    </tr>\n",
       "    <tr>\n",
       "      <th>98</th>\n",
       "      <td>North Center</td>\n",
       "      <td>5.0</td>\n",
       "      <td>198</td>\n",
       "      <td>CRIMINAL TRESPASS</td>\n",
       "    </tr>\n",
       "    <tr>\n",
       "      <th>99</th>\n",
       "      <td>North Center</td>\n",
       "      <td>5.0</td>\n",
       "      <td>1</td>\n",
       "      <td>OBSCENITY</td>\n",
       "    </tr>\n",
       "    <tr>\n",
       "      <th>100</th>\n",
       "      <td>North Center</td>\n",
       "      <td>5.0</td>\n",
       "      <td>50</td>\n",
       "      <td>OFFENSE INVOLVING CHILDREN</td>\n",
       "    </tr>\n",
       "    <tr>\n",
       "      <th>101</th>\n",
       "      <td>North Center</td>\n",
       "      <td>5.0</td>\n",
       "      <td>31</td>\n",
       "      <td>PUBLIC PEACE VIOLATION</td>\n",
       "    </tr>\n",
       "    <tr>\n",
       "      <th>102</th>\n",
       "      <td>North Center</td>\n",
       "      <td>5.0</td>\n",
       "      <td>7</td>\n",
       "      <td>STALKING</td>\n",
       "    </tr>\n",
       "    <tr>\n",
       "      <th>103</th>\n",
       "      <td>None</td>\n",
       "      <td>9.0</td>\n",
       "      <td>80</td>\n",
       "      <td>ASSAULT</td>\n",
       "    </tr>\n",
       "    <tr>\n",
       "      <th>104</th>\n",
       "      <td>None</td>\n",
       "      <td>9.0</td>\n",
       "      <td>51</td>\n",
       "      <td>CRIMINAL TRESPASS</td>\n",
       "    </tr>\n",
       "    <tr>\n",
       "      <th>105</th>\n",
       "      <td>None</td>\n",
       "      <td>9.0</td>\n",
       "      <td>14</td>\n",
       "      <td>OFFENSE INVOLVING CHILDREN</td>\n",
       "    </tr>\n",
       "    <tr>\n",
       "      <th>106</th>\n",
       "      <td>None</td>\n",
       "      <td>9.0</td>\n",
       "      <td>11</td>\n",
       "      <td>PUBLIC PEACE VIOLATION</td>\n",
       "    </tr>\n",
       "    <tr>\n",
       "      <th>107</th>\n",
       "      <td>None</td>\n",
       "      <td>9.0</td>\n",
       "      <td>2</td>\n",
       "      <td>STALKING</td>\n",
       "    </tr>\n",
       "  </tbody>\n",
       "</table>\n",
       "<p>108 rows × 4 columns</p>\n",
       "</div>"
      ],
      "text/plain": [
       "           area_name  community_area  count                primary_type\n",
       "0    Near North Side             8.0     18                       ARSON\n",
       "1    Near North Side             8.0   1642                     ASSAULT\n",
       "2    Near North Side             8.0   2044           CRIMINAL TRESPASS\n",
       "3    Near North Side             8.0     11                    GAMBLING\n",
       "4    Near North Side             8.0      1              NON - CRIMINAL\n",
       "5    Near North Side             8.0     10                NON-CRIMINAL\n",
       "6    Near North Side             8.0      2                   OBSCENITY\n",
       "7    Near North Side             8.0    120  OFFENSE INVOLVING CHILDREN\n",
       "8    Near North Side             8.0    313      PUBLIC PEACE VIOLATION\n",
       "9    Near North Side             8.0     29                    STALKING\n",
       "10              None            67.0     90                       ARSON\n",
       "11              None            67.0   2903                     ASSAULT\n",
       "12              None            67.0    979           CRIMINAL TRESPASS\n",
       "13              None            67.0    194                    GAMBLING\n",
       "14              None            67.0      4                   OBSCENITY\n",
       "15              None            67.0    279  OFFENSE INVOLVING CHILDREN\n",
       "16              None            67.0    479      PUBLIC PEACE VIOLATION\n",
       "17              None            67.0     16                    STALKING\n",
       "18              None            70.0     27                       ARSON\n",
       "19              None            70.0    880                     ASSAULT\n",
       "20              None            70.0    272           CRIMINAL TRESPASS\n",
       "21              None            70.0      7                    GAMBLING\n",
       "22              None            70.0      3              NON - CRIMINAL\n",
       "23              None            70.0      4                   OBSCENITY\n",
       "24              None            70.0    107  OFFENSE INVOLVING CHILDREN\n",
       "25              None            70.0    118      PUBLIC PEACE VIOLATION\n",
       "26              None            70.0     10                    STALKING\n",
       "27              None            69.0     49                       ARSON\n",
       "28              None            69.0   2717                     ASSAULT\n",
       "29              None            69.0   1129           CRIMINAL TRESPASS\n",
       "..               ...             ...    ...                         ...\n",
       "78              None            75.0     87      PUBLIC PEACE VIOLATION\n",
       "79              None            75.0      3                    STALKING\n",
       "80              None            47.0      8                       ARSON\n",
       "81              None            47.0    165                     ASSAULT\n",
       "82              None            47.0     30           CRIMINAL TRESPASS\n",
       "83              None            47.0     16                    GAMBLING\n",
       "84              None            47.0     18  OFFENSE INVOLVING CHILDREN\n",
       "85              None            47.0     20      PUBLIC PEACE VIOLATION\n",
       "86              None            47.0      1                    STALKING\n",
       "87    Lincoln Square             4.0      3                       ARSON\n",
       "88    Lincoln Square             4.0    512                     ASSAULT\n",
       "89    Lincoln Square             4.0    245           CRIMINAL TRESPASS\n",
       "90    Lincoln Square             4.0      6                    GAMBLING\n",
       "91    Lincoln Square             4.0      2                NON-CRIMINAL\n",
       "92    Lincoln Square             4.0      1                   OBSCENITY\n",
       "93    Lincoln Square             4.0     73  OFFENSE INVOLVING CHILDREN\n",
       "94    Lincoln Square             4.0     50      PUBLIC PEACE VIOLATION\n",
       "95    Lincoln Square             4.0      5                    STALKING\n",
       "96      North Center             5.0     13                       ARSON\n",
       "97      North Center             5.0    285                     ASSAULT\n",
       "98      North Center             5.0    198           CRIMINAL TRESPASS\n",
       "99      North Center             5.0      1                   OBSCENITY\n",
       "100     North Center             5.0     50  OFFENSE INVOLVING CHILDREN\n",
       "101     North Center             5.0     31      PUBLIC PEACE VIOLATION\n",
       "102     North Center             5.0      7                    STALKING\n",
       "103             None             9.0     80                     ASSAULT\n",
       "104             None             9.0     51           CRIMINAL TRESPASS\n",
       "105             None             9.0     14  OFFENSE INVOLVING CHILDREN\n",
       "106             None             9.0     11      PUBLIC PEACE VIOLATION\n",
       "107             None             9.0      2                    STALKING\n",
       "\n",
       "[108 rows x 4 columns]"
      ]
     },
     "execution_count": 73,
     "metadata": {},
     "output_type": "execute_result"
    }
   ],
   "source": [
    "tops_of_tops_dff = pd.DataFrame(named_tops_of_tops.rdd.map(lambda l: l.asDict()).collect() )\n",
    "tops_of_tops_dff"
   ]
  },
  {
   "cell_type": "code",
   "execution_count": 74,
   "metadata": {},
   "outputs": [
    {
     "data": {
      "text/plain": [
       "<matplotlib.axes._subplots.AxesSubplot at 0x7f3d30ed44d0>"
      ]
     },
     "execution_count": 74,
     "metadata": {},
     "output_type": "execute_result"
    },
    {
     "data": {
      "image/png": "[encoded data removed]",
      "text/plain": [
       "<Figure size 4608x1152 with 1 Axes>"
      ]
     },
     "metadata": {},
     "output_type": "display_data"
    }
   ],
   "source": [
    "plt.rcParams[\"figure.figsize\"] = [64, 16]\n",
    "sns.barplot(data=tops_of_tops_dff, x='area_name', y='count', hue='primary_type', palette='pastel')"
   ]
  },
  {
   "cell_type": "code",
   "execution_count": 75,
   "metadata": {},
   "outputs": [
    {
     "data": {
      "text/plain": [
       "<seaborn.axisgrid.FacetGrid at 0x7f3d06090810>"
      ]
     },
     "execution_count": 75,
     "metadata": {},
     "output_type": "execute_result"
    },
    {
     "data": {
      "image/png": "[encoded data removed]",
      "text/plain": [
       "<Figure size 360x360 with 1 Axes>"
      ]
     },
     "metadata": {},
     "output_type": "display_data"
    }
   ],
   "source": [
    "#Distribution of crimes by community area:: \n",
    "\n",
    "sns.lmplot(x='community_area', y='count', data=tops_of_tops_dff)"
   ]
  },
  {
   "cell_type": "code",
   "execution_count": 76,
   "metadata": {},
   "outputs": [],
   "source": [
    "selected_features = [\n",
    " 'location_description',\n",
    " 'district',\n",
    " 'ward',\n",
    " 'community_area',\n",
    " 'fbi_code',\n",
    " 'hour',\n",
    " 'week_day',\n",
    " 'year_month',\n",
    " 'month_day',\n",
    " 'date_number']"
   ]
  },
  {
   "cell_type": "code",
   "execution_count": 77,
   "metadata": {},
   "outputs": [
    {
     "name": "stdout",
     "output_type": "stream",
     "text": [
      "root\n",
      " |-- location_description: string (nullable = true)\n",
      " |-- district: double (nullable = true)\n",
      " |-- ward: double (nullable = true)\n",
      " |-- community_area: double (nullable = true)\n",
      " |-- fbi_code: string (nullable = true)\n",
      " |-- hour: integer (nullable = true)\n",
      " |-- week_day: integer (nullable = true)\n",
      " |-- year_month: integer (nullable = true)\n",
      " |-- month_day: integer (nullable = true)\n",
      " |-- date_number: integer (nullable = true)\n",
      "\n"
     ]
    }
   ],
   "source": [
    "#Let's see the schema of these selected features:\n",
    "features_df = df_dates.select(selected_features)\n",
    "features_df.printSchema()"
   ]
  },
  {
   "cell_type": "code",
   "execution_count": 78,
   "metadata": {},
   "outputs": [
    {
     "name": "stdout",
     "output_type": "stream",
     "text": [
      "Analysing location_description\n",
      "Analysing district\n",
      "Analysing ward\n",
      "Analysing community_area\n",
      "Analysing fbi_code\n",
      "Analysing hour\n",
      "Analysing week_day\n",
      "Analysing year_month\n",
      "Analysing month_day\n",
      "Analysing date_number\n"
     ]
    }
   ],
   "source": [
    "feature_level_count_dic = []\n",
    "\n",
    "for feature in selected_features:\n",
    "    print('Analysing %s' % feature)\n",
    "    levels_list_df = features_df.select(feature).distinct()\n",
    "    feature_level_count_dic.append({'feature': feature, 'level_count': levels_list_df.count()})"
   ]
  },
  {
   "cell_type": "code",
   "execution_count": 79,
   "metadata": {},
   "outputs": [
    {
     "data": {
      "text/html": [
       "<div>\n",
       "<style scoped>\n",
       "    .dataframe tbody tr th:only-of-type {\n",
       "        vertical-align: middle;\n",
       "    }\n",
       "\n",
       "    .dataframe tbody tr th {\n",
       "        vertical-align: top;\n",
       "    }\n",
       "\n",
       "    .dataframe thead th {\n",
       "        text-align: right;\n",
       "    }\n",
       "</style>\n",
       "<table border=\"1\" class=\"dataframe\">\n",
       "  <thead>\n",
       "    <tr style=\"text-align: right;\">\n",
       "      <th></th>\n",
       "      <th>feature</th>\n",
       "      <th>level_count</th>\n",
       "    </tr>\n",
       "  </thead>\n",
       "  <tbody>\n",
       "    <tr>\n",
       "      <th>9</th>\n",
       "      <td>date_number</td>\n",
       "      <td>1842</td>\n",
       "    </tr>\n",
       "    <tr>\n",
       "      <th>0</th>\n",
       "      <td>location_description</td>\n",
       "      <td>140</td>\n",
       "    </tr>\n",
       "    <tr>\n",
       "      <th>3</th>\n",
       "      <td>community_area</td>\n",
       "      <td>78</td>\n",
       "    </tr>\n",
       "    <tr>\n",
       "      <th>2</th>\n",
       "      <td>ward</td>\n",
       "      <td>50</td>\n",
       "    </tr>\n",
       "    <tr>\n",
       "      <th>8</th>\n",
       "      <td>month_day</td>\n",
       "      <td>31</td>\n",
       "    </tr>\n",
       "    <tr>\n",
       "      <th>4</th>\n",
       "      <td>fbi_code</td>\n",
       "      <td>26</td>\n",
       "    </tr>\n",
       "    <tr>\n",
       "      <th>1</th>\n",
       "      <td>district</td>\n",
       "      <td>24</td>\n",
       "    </tr>\n",
       "    <tr>\n",
       "      <th>5</th>\n",
       "      <td>hour</td>\n",
       "      <td>24</td>\n",
       "    </tr>\n",
       "    <tr>\n",
       "      <th>7</th>\n",
       "      <td>year_month</td>\n",
       "      <td>12</td>\n",
       "    </tr>\n",
       "    <tr>\n",
       "      <th>6</th>\n",
       "      <td>week_day</td>\n",
       "      <td>7</td>\n",
       "    </tr>\n",
       "  </tbody>\n",
       "</table>\n",
       "</div>"
      ],
      "text/plain": [
       "                feature  level_count\n",
       "9           date_number         1842\n",
       "0  location_description          140\n",
       "3        community_area           78\n",
       "2                  ward           50\n",
       "8             month_day           31\n",
       "4              fbi_code           26\n",
       "1              district           24\n",
       "5                  hour           24\n",
       "7            year_month           12\n",
       "6              week_day            7"
      ]
     },
     "execution_count": 79,
     "metadata": {},
     "output_type": "execute_result"
    }
   ],
   "source": [
    "pd.DataFrame(feature_level_count_dic).sort_values(by='level_count', ascending=False)"
   ]
  },
  {
   "cell_type": "markdown",
   "metadata": {},
   "source": [
    "## The model\n",
    "### To predict the crime's class (crime's type)\n",
    "\n",
    "### Logistic Regression [classification & regression]"
   ]
  },
  {
   "cell_type": "code",
   "execution_count": 80,
   "metadata": {},
   "outputs": [],
   "source": [
    "#Clean our dates df from Nan and null\n",
    "df_dates_features = df_dates.na.drop(subset=selected_features)"
   ]
  },
  {
   "cell_type": "code",
   "execution_count": 81,
   "metadata": {},
   "outputs": [
    {
     "name": "stdout",
     "output_type": "stream",
     "text": [
      "DONE : \"location_description\"\n",
      "DONE : \"district\"\n",
      "DONE : \"ward\"\n",
      "DONE : \"community_area\"\n",
      "DONE : \"fbi_code\"\n",
      "DONE : \"hour\"\n",
      "DONE : \"week_day\"\n",
      "DONE : \"year_month\"\n",
      "DONE : \"month_day\"\n",
      "DONE : \"date_number\"\n"
     ]
    }
   ],
   "source": [
    "#Let's index, fit and transform each Feature (Columns)\n",
    "\n",
    "for feature in feature_level_count_dic:\n",
    "    indexer = StringIndexer(inputCol=feature['feature'], outputCol='%s_indexed' % feature['feature'])\n",
    "    model = indexer.fit(df_dates_features)\n",
    "    df_dates_features = model.transform(df_dates_features)\n",
    "    print('DONE : \"%s\"' % feature['feature'])"
   ]
  },
  {
   "cell_type": "code",
   "execution_count": 82,
   "metadata": {},
   "outputs": [],
   "source": [
    "## String-index the response variable:\n",
    "\n",
    "response_indexer = StringIndexer(inputCol='primary_type', outputCol='primary_type_indexed')\n",
    "response_model = response_indexer.fit(df_dates_features)\n",
    "df_dates_features = response_model.transform(df_dates_features)"
   ]
  },
  {
   "cell_type": "code",
   "execution_count": 83,
   "metadata": {},
   "outputs": [
    {
     "name": "stdout",
     "output_type": "stream",
     "text": [
      "+---+--------+-----------+--------------------+-------------------+----+--------------------+--------------------+--------------------+------+--------+----+--------+----+--------------+--------+------------+------------+----------+--------------------+------------+-------------+--------------------+-------------------+----------+----+--------+----------+---------+-----------+----------------------------+----------------+------------+----------------------+----------------+------------+----------------+------------------+-----------------+-------------------+--------------------+\n",
      "|_c0|      id|case_number|                date|              block|iucr|        primary_type|         description|location_description|arrest|domestic|beat|district|ward|community_area|fbi_code|x_coordinate|y_coordinate|      year|          updated_on|    latitude|    longitude|            location|          date_time|     month|hour|week_day|year_month|month_day|date_number|location_description_indexed|district_indexed|ward_indexed|community_area_indexed|fbi_code_indexed|hour_indexed|week_day_indexed|year_month_indexed|month_day_indexed|date_number_indexed|primary_type_indexed|\n",
      "+---+--------+-----------+--------------------+-------------------+----+--------------------+--------------------+--------------------+------+--------+----+--------+----+--------------+--------+------------+------------+----------+--------------------+------------+-------------+--------------------+-------------------+----------+----+--------+----------+---------+-----------+----------------------------+----------------+------------+----------------------+----------------+------------+----------------+------------------+-----------------+-------------------+--------------------+\n",
      "|  3|10508693|   HZ250496|05/03/2016 11:40:...| 013XX S SAWYER AVE|0486|             BATTERY|DOMESTIC BATTERY ...|           APARTMENT|  true|    true|1022|    10.0|24.0|          29.0|     08B|   1154907.0|   1893681.0|2016-01-01|05/10/2016 03:56:...|41.864073157|-87.706818608|(41.864073157, -8...|2016-05-03 23:40:00|2016-05-01|  23|       3|         5|        3|       5601|                         2.0|             9.0|         2.0|                   4.0|             1.0|        15.0|             5.0|               3.0|             10.0|             1304.0|                 1.0|\n",
      "| 89|10508695|   HZ250409|05/03/2016 09:40:...| 061XX S DREXEL AVE|0486|             BATTERY|DOMESTIC BATTERY ...|           RESIDENCE| false|    true| 313|     3.0|20.0|          42.0|     08B|   1183066.0|   1864330.0|2016-01-01|05/10/2016 03:56:...|41.782921527| -87.60436317|(41.782921527, -8...|2016-05-03 21:40:00|2016-05-01|  21|       3|         5|        3|       5601|                         1.0|             6.0|         7.0|                  24.0|             1.0|         5.0|             5.0|               3.0|             10.0|             1304.0|                 1.0|\n",
      "|197|10508697|   HZ250503|05/03/2016 11:31:...|053XX W CHICAGO AVE|0470|PUBLIC PEACE VIOL...|    RECKLESS CONDUCT|              STREET| false|   false|1524|    15.0|37.0|          25.0|      24|   1140789.0|   1904819.0|2016-01-01|05/10/2016 03:56:...|41.894908283|-87.758371958|(41.894908283, -8...|2016-05-03 23:31:00|2016-05-01|  23|       3|         5|        3|       5601|                         0.0|            12.0|        13.0|                   0.0|            12.0|        15.0|             5.0|               3.0|             10.0|             1304.0|                12.0|\n",
      "|673|10508698|   HZ250424|05/03/2016 10:10:...|  049XX W FULTON ST|0460|             BATTERY|              SIMPLE|            SIDEWALK| false|   false|1532|    15.0|28.0|          25.0|     08B|   1143223.0|   1901475.0|2016-01-01|05/10/2016 03:56:...|41.885686845|-87.749515983|(41.885686845, -8...|2016-05-03 22:10:00|2016-05-01|  22|       3|         5|        3|       5601|                         3.0|            12.0|         0.0|                   0.0|             1.0|         6.0|             5.0|               3.0|             10.0|             1304.0|                 1.0|\n",
      "+---+--------+-----------+--------------------+-------------------+----+--------------------+--------------------+--------------------+------+--------+----+--------+----+--------------+--------+------------+------------+----------+--------------------+------------+-------------+--------------------+-------------------+----------+----+--------+----------+---------+-----------+----------------------------+----------------+------------+----------------------+----------------+------------+----------------+------------------+-----------------+-------------------+--------------------+\n",
      "only showing top 4 rows\n",
      "\n"
     ]
    }
   ],
   "source": [
    "df_dates_features.show(1)"
   ]
  },
  {
   "cell_type": "code",
   "execution_count": 84,
   "metadata": {},
   "outputs": [
    {
     "data": {
      "text/plain": [
       "['location_description_indexed',\n",
       " 'district_indexed',\n",
       " 'ward_indexed',\n",
       " 'community_area_indexed',\n",
       " 'fbi_code_indexed',\n",
       " 'hour_indexed',\n",
       " 'week_day_indexed',\n",
       " 'year_month_indexed',\n",
       " 'month_day_indexed',\n",
       " 'date_number_indexed']"
      ]
     },
     "execution_count": 84,
     "metadata": {},
     "output_type": "execute_result"
    }
   ],
   "source": [
    "indexed_features = ['%s_indexed' % fc['feature'] for fc in feature_level_count_dic]\n",
    "indexed_features"
   ]
  },
  {
   "cell_type": "code",
   "execution_count": 85,
   "metadata": {},
   "outputs": [],
   "source": [
    "assembler = VectorAssembler(inputCols=indexed_features, outputCol='features')\n",
    "vectorized_df_dates = assembler.transform(df_dates_features)"
   ]
  },
  {
   "cell_type": "code",
   "execution_count": 86,
   "metadata": {},
   "outputs": [
    {
     "data": {
      "text/plain": [
       "[Row(features=DenseVector([2.0, 9.0, 2.0, 4.0, 1.0, 15.0, 5.0, 3.0, 10.0, 1304.0]))]"
      ]
     },
     "execution_count": 86,
     "metadata": {},
     "output_type": "execute_result"
    }
   ],
   "source": [
    "vectorized_df_dates.select('features').take(1)"
   ]
  },
  {
   "cell_type": "code",
   "execution_count": 87,
   "metadata": {},
   "outputs": [],
   "source": [
    "# Split the data into training and test sets \n",
    "# 30% for test, 70% for training\n",
    "train, test = vectorized_df_dates.randomSplit([0.7, 0.3])"
   ]
  },
  {
   "cell_type": "code",
   "execution_count": 88,
   "metadata": {},
   "outputs": [],
   "source": [
    "logisticRegression = LogisticRegression(labelCol='primary_type_indexed', featuresCol='features', maxIter=10, family='multinomial')\n",
    "fittedModel = logisticRegression.fit(train)"
   ]
  },
  {
   "cell_type": "code",
   "execution_count": 89,
   "metadata": {},
   "outputs": [
    {
     "data": {
      "text/plain": [
       "0.4206522757330019"
      ]
     },
     "execution_count": 89,
     "metadata": {},
     "output_type": "execute_result"
    }
   ],
   "source": [
    "#Model's accuracy :/ \n",
    "fittedModel.summary.accuracy"
   ]
  },
  {
   "cell_type": "code",
   "execution_count": 90,
   "metadata": {},
   "outputs": [
    {
     "data": {
      "text/plain": [
       "DenseMatrix(33, 10, [0.0118, 0.0764, 0.0027, 0.0032, -2.5006, 0.0816, 0.2068, 0.0763, ..., 0.0, 0.0, -0.0, -0.0, -0.0, 0.0001, 0.0, 0.0], 1)"
      ]
     },
     "execution_count": 90,
     "metadata": {},
     "output_type": "execute_result"
    }
   ],
   "source": [
    "model_summary = fittedModel.summary\n",
    "fittedModel.coefficientMatrix"
   ]
  },
  {
   "cell_type": "markdown",
   "metadata": {},
   "source": [
    "---\n",
    "\n",
    "### Another shot : Random forest"
   ]
  },
  {
   "cell_type": "code",
   "execution_count": 91,
   "metadata": {},
   "outputs": [],
   "source": [
    "from pyspark.ml.classification import RandomForestClassifier\n",
    "from pyspark.ml import Pipeline\n",
    "\n",
    "rf = RandomForestClassifier(labelCol=\"primary_type_indexed\", featuresCol=\"features\", numTrees=10)"
   ]
  },
  {
   "cell_type": "code",
   "execution_count": 92,
   "metadata": {},
   "outputs": [],
   "source": [
    "# Convert indexed labels back to original labels.\n",
    "labelConverter = IndexToString(inputCol=\"primary_type_indexed\", outputCol=\"primary_type\",\n",
    "                               labels=response_model.labels)\n",
    "\n",
    "# Train model.  This also runs the indexers.\n",
    "#model = rf.fit(train)\n",
    "\n",
    "# Make predictions.\n",
    "#predictions = model.transform(test)"
   ]
  },
  {
   "cell_type": "markdown",
   "metadata": {},
   "source": [
    "---\n",
    "---"
   ]
  },
  {
   "cell_type": "code",
   "execution_count": 99,
   "metadata": {},
   "outputs": [
    {
     "data": {
      "text/plain": [
       "DataFrame[_c0: string, id: string, case_number: string, date: string, block: string, iucr: string, primary_type: string, description: string, location_description: string, arrest: boolean, domestic: boolean, beat: int, district: double, ward: double, community_area: double, fbi_code: string, x_coordinate: double, y_coordinate: double, year: date, updated_on: string, latitude: double, longitude: double, location: string, date_time: timestamp, month: date, hour: int, week_day: int, year_month: int, month_day: int, date_number: int, location_description_indexed: double, district_indexed: double, ward_indexed: double, community_area_indexed: double, fbi_code_indexed: double, hour_indexed: double, week_day_indexed: double, year_month_indexed: double, month_day_indexed: double, date_number_indexed: double, primary_type_indexed: double, features: vector]"
      ]
     },
     "execution_count": 99,
     "metadata": {},
     "output_type": "execute_result"
    }
   ],
   "source": [
    "from sklearn.naive_bayes import BernoulliNB\n",
    "BNB = BernoulliNB()\n",
    "train\n"
   ]
  },
  {
   "cell_type": "code",
   "execution_count": 101,
   "metadata": {},
   "outputs": [
    {
     "ename": "SyntaxError",
     "evalue": "invalid syntax (<ipython-input-101-9ab87ee6a812>, line 2)",
     "output_type": "error",
     "traceback": [
      "\u001b[0;36m  File \u001b[0;32m\"<ipython-input-101-9ab87ee6a812>\"\u001b[0;36m, line \u001b[0;32m2\u001b[0m\n\u001b[0;31m    new = np.array(train.select(cols).collect())\u001b[0m\n\u001b[0m      ^\u001b[0m\n\u001b[0;31mSyntaxError\u001b[0m\u001b[0;31m:\u001b[0m invalid syntax\n"
     ]
    }
   ],
   "source": [
    "#cols = list(set(train.columns)\n",
    "#new = np.array(train.select(cols).collect())\n",
    "#BNB.fit(ntrain, ntrain)\n",
    "#BNB_Expected_Y = BNB.predict(test)"
   ]
  },
  {
   "cell_type": "code",
   "execution_count": null,
   "metadata": {},
   "outputs": [],
   "source": []
  },
  {
   "cell_type": "code",
   "execution_count": null,
   "metadata": {},
   "outputs": [],
   "source": [
    "rforest = RandomForestClassifier(n_estimators = 90, n_jobs = -1)"
   ]
  },
  {
   "cell_type": "code",
   "execution_count": null,
   "metadata": {},
   "outputs": [],
   "source": [
    "#rforest.fit(train, train)\n",
    "#RF_Expected_Y = rforest.predict(test)"
   ]
  }
 ],
 "metadata": {
  "kernelspec": {
   "display_name": "Python 2",
   "language": "python",
   "name": "python2"
  },
  "language_info": {
   "codemirror_mode": {
    "name": "ipython",
    "version": 2
   },
   "file_extension": ".py",
   "mimetype": "text/x-python",
   "name": "python",
   "nbconvert_exporter": "python",
   "pygments_lexer": "ipython2",
   "version": "2.7.12"
  }
 },
 "nbformat": 4,
 "nbformat_minor": 2
}
